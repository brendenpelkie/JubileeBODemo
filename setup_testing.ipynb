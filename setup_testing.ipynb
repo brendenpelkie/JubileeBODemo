{
 "cells": [
  {
   "cell_type": "code",
   "execution_count": 1,
   "id": "bde380a5-0c9c-4fbd-96a9-a8ce3f2ce957",
   "metadata": {},
   "outputs": [],
   "source": [
    "%load_ext autoreload\n",
    "%autoreload 2"
   ]
  },
  {
   "cell_type": "code",
   "execution_count": 2,
   "id": "292726c2-e3c3-430f-89c3-bcdfef2ea993",
   "metadata": {},
   "outputs": [],
   "source": [
    "from jubileedemo import meatspace_protocols as meat\n",
    "from jubileedemo import user_functions\n",
    "import numpy as np\n",
    "from bayesopt import acquisitions \n",
    "import json\n",
    "\n",
    "import cv2\n",
    "\n",
    "import bayesopt.bayesian_optimizer as bayesian_optimizer\n",
    "import bayesopt.model as model\n",
    "from sklearn.gaussian_process import GaussianProcessRegressor\n",
    "from sklearn.gaussian_process import kernels"
   ]
  },
  {
   "cell_type": "code",
   "execution_count": 3,
   "id": "7e3b1343-e175-4b96-b9a2-266d0662646f",
   "metadata": {},
   "outputs": [],
   "source": [
    "from jubileedemo import image_processing as img"
   ]
  },
  {
   "cell_type": "code",
   "execution_count": 32,
   "id": "9f6bd9d7-2783-4454-a5e1-786b2ebf4b34",
   "metadata": {},
   "outputs": [
    {
     "name": "stdout",
     "output_type": "stream",
     "text": [
      "Loading deck config file from deck_config.json\n"
     ]
    }
   ],
   "source": [
    "jub = meat.BayesianOptDemoDriver(deck_config_filepath = 'deck_config.json')"
   ]
  },
  {
   "cell_type": "code",
   "execution_count": 33,
   "id": "105eba72-35d0-47e5-bc84-ab8478f93597",
   "metadata": {},
   "outputs": [],
   "source": [
    "jub.safe_z = None"
   ]
  },
  {
   "cell_type": "code",
   "execution_count": 7,
   "id": "ea07677c-98ec-4d0b-a3fc-c304f767e6b3",
   "metadata": {},
   "outputs": [],
   "source": [
    "# prime pumps\n",
    "jub.prime_lines('2.A2', volume = 28)\n"
   ]
  },
  {
   "cell_type": "markdown",
   "id": "6509c5b9-de88-4c5e-8847-9baa647681af",
   "metadata": {
    "jp-MarkdownHeadingCollapsed": true
   },
   "source": [
    "# Get 12 points of random data"
   ]
  },
  {
   "cell_type": "code",
   "execution_count": 20,
   "id": "c208b3b1-346f-41ff-b53a-bcd245c16ac0",
   "metadata": {},
   "outputs": [],
   "source": [
    "sample_space = user_functions.get_constrained_points(101)"
   ]
  },
  {
   "cell_type": "code",
   "execution_count": 21,
   "id": "f42ad58c-740d-4c19-aaa1-97b2d17effd1",
   "metadata": {},
   "outputs": [],
   "source": [
    "n_init_points = 12\n",
    "sampled_indices = np.random.randint(0, len(sample_space), size = n_init_points)\n",
    "sampled_points = sample_space[sampled_indices]"
   ]
  },
  {
   "cell_type": "code",
   "execution_count": 22,
   "id": "32ae9548-78e9-4e46-9a4b-d043bb0be2aa",
   "metadata": {
    "scrolled": true
   },
   "outputs": [
    {
     "name": "stdout",
     "output_type": "stream",
     "text": [
      "creating sample\n",
      "[0.37 0.49 0.14]\n",
      "3.A1\n",
      "Dispensing volumes:  [1.85, 2.45, 0.7000000000000001]\n",
      "well image function\n",
      "current active tool:  1\n",
      "creating sample\n",
      "[0.72 0.14 0.14]\n",
      "3.A2\n",
      "Dispensing volumes:  [3.5999999999999996, 0.7000000000000001, 0.7000000000000001]\n",
      "well image function\n",
      "current active tool:  1\n",
      "creating sample\n",
      "[0.35 0.61 0.04]\n",
      "3.A3\n",
      "Dispensing volumes:  [1.7500000000000002, 3.05, 0.2]\n",
      "well image function\n",
      "current active tool:  1\n",
      "creating sample\n",
      "[0.55 0.2  0.25]\n",
      "3.A4\n",
      "Dispensing volumes:  [2.75, 1.0, 1.25]\n",
      "well image function\n",
      "current active tool:  1\n",
      "creating sample\n",
      "[0.27 0.33 0.4 ]\n",
      "3.B1\n",
      "Dispensing volumes:  [1.35, 1.6500000000000001, 2.0]\n",
      "well image function\n",
      "current active tool:  1\n",
      "creating sample\n",
      "[0.25 0.25 0.5 ]\n",
      "3.B2\n",
      "Dispensing volumes:  [1.25, 1.25, 2.5]\n",
      "well image function\n",
      "current active tool:  1\n",
      "creating sample\n",
      "[0.26 0.12 0.62]\n",
      "3.B3\n",
      "Dispensing volumes:  [1.3, 0.6, 3.1]\n",
      "well image function\n",
      "current active tool:  1\n",
      "creating sample\n",
      "[0.17 0.22 0.61]\n",
      "3.B4\n",
      "Dispensing volumes:  [0.8500000000000001, 1.1, 3.05]\n",
      "well image function\n",
      "current active tool:  1\n",
      "creating sample\n",
      "[0.62 0.23 0.15]\n",
      "3.C1\n",
      "Dispensing volumes:  [3.1, 1.1500000000000001, 0.75]\n",
      "well image function\n",
      "current active tool:  1\n",
      "creating sample\n",
      "[0.05 0.45 0.5 ]\n",
      "3.C2\n",
      "Dispensing volumes:  [0.25, 2.25, 2.5]\n",
      "well image function\n",
      "current active tool:  1\n",
      "creating sample\n",
      "[0.21 0.32 0.47]\n",
      "3.C3\n",
      "Dispensing volumes:  [1.05, 1.6, 2.35]\n",
      "well image function\n",
      "current active tool:  1\n",
      "creating sample\n",
      "[0.12 0.15 0.73]\n",
      "3.C4\n",
      "Dispensing volumes:  [0.6, 0.75, 3.65]\n",
      "well image function\n",
      "current active tool:  1\n"
     ]
    }
   ],
   "source": [
    "rgb_vals = []\n",
    "for i in range(len(sampled_points)):\n",
    "    point = sampled_points[i,:]\n",
    "    well = jub.next_sample_well()\n",
    "    print('creating sample')\n",
    "    print(point)\n",
    "    print(well)\n",
    "    \n",
    "    RGB = user_functions.sample_point(jub, point, 5, well)\n",
    "    rgb_vals.append(RGB)"
   ]
  },
  {
   "cell_type": "code",
   "execution_count": 34,
   "id": "68cd91b8-6091-42a4-af40-906322a49d4c",
   "metadata": {},
   "outputs": [],
   "source": [
    "loss_vals = [user_functions.color_loss_calculation(target_color, user_functions.normalize_color(rgb)) for rgb in rgb_vals]"
   ]
  },
  {
   "cell_type": "code",
   "execution_count": 44,
   "id": "789da582-8c6c-47ba-92e0-deb7255e21e4",
   "metadata": {},
   "outputs": [],
   "source": [
    "init_data = []\n",
    "for i in range(len(sampled_points)):\n",
    "    data = {}\n",
    "    data['sample_id'] = str(i)\n",
    "    data['RYB_point'] = list(sampled_points[i])\n",
    "    data['RGB_measured'] = rgb_vals[i]\n",
    "\n",
    "    init_data.append(data)\n",
    "    "
   ]
  },
  {
   "cell_type": "code",
   "execution_count": 45,
   "id": "9eb14426-7720-4376-9a61-82666cdc4da3",
   "metadata": {},
   "outputs": [],
   "source": [
    "with open('initial_data_random_12.jsonl', 'wt') as f:\n",
    "    for entry in init_data:\n",
    "        f.write(json.dumps(entry) + '\\n')"
   ]
  },
  {
   "cell_type": "markdown",
   "id": "e32a637b-a3f1-41dc-8488-8f9cb88b27ce",
   "metadata": {},
   "source": [
    "# BO campaign"
   ]
  },
  {
   "cell_type": "code",
   "execution_count": 40,
   "id": "fe33469c-6cdf-4956-8249-e47a8a128d53",
   "metadata": {},
   "outputs": [],
   "source": [
    "target_color = (137, 243, 190) # seafoam green\n",
    "target_color = user_functions.normalize_color(target_color)"
   ]
  },
  {
   "cell_type": "code",
   "execution_count": 41,
   "id": "264ca7ed-97f0-4f17-baae-508f9c4a6617",
   "metadata": {},
   "outputs": [],
   "source": [
    "init_data = []\n",
    "\n",
    "with open('initial_data_24pts_combine.jsonl', 'rt') as f:\n",
    "    for line in f:\n",
    "        init_data.append(json.loads(line))"
   ]
  },
  {
   "cell_type": "code",
   "execution_count": 42,
   "id": "dfe4dfe8-6186-4a50-a3ba-c6cefc23a2d5",
   "metadata": {},
   "outputs": [],
   "source": [
    "init_X = np.zeros((len(init_data),3))\n",
    "init_y = np.zeros(len(init_data))\n",
    "\n",
    "for i, entry in enumerate(init_data):\n",
    "    init_X[i,:] = entry['RYB_point']\n",
    "    init_y[i] = user_functions.color_loss_calculation(target_color, user_functions.normalize_color(entry['RGB_measured']))\n",
    "    "
   ]
  },
  {
   "cell_type": "code",
   "execution_count": 43,
   "id": "ee11c479-d6fd-466c-93d1-32e1732b433f",
   "metadata": {},
   "outputs": [],
   "source": [
    "acquisition_function = acquisitions.optimize_EI"
   ]
  },
  {
   "cell_type": "code",
   "execution_count": 44,
   "id": "7b54c76b-fc25-47fc-ba95-a48827b3278a",
   "metadata": {},
   "outputs": [],
   "source": [
    "initial_data = (init_X, init_y)\n",
    "number_of_iterations = 12\n",
    "jubilee = jub"
   ]
  },
  {
   "cell_type": "code",
   "execution_count": null,
   "id": "c5b2beb9-bf26-4c30-9172-19cf01eb97d2",
   "metadata": {},
   "outputs": [
    {
     "name": "stdout",
     "output_type": "stream",
     "text": [
      "first query pt:  [0.   0.74 0.26]\n",
      "Starting iteration 0\n",
      "Dispensing into well 3.A1\n",
      "RYB values tested: [0.   0.74 0.26]\n",
      "RYB after norm in sample func:  [0.0, 0.74, 0.26]\n",
      "Dispensing volumes:  [0.0, 3.7, 1.3]\n",
      "current active tool:  1\n",
      "swapping\n",
      "loss score: 0.7578494638241895\n",
      "RGB values observed: [0.507367500218698, 0.8118171934165636, 0.5506047313762982]\n",
      "Starting iteration 1\n",
      "Dispensing into well 3.A2\n",
      "RYB values tested: [0.   0.65 0.35]\n",
      "RYB after norm in sample func:  [0.0, 0.65, 0.35000000000000003]\n",
      "Dispensing volumes:  [0.0, 3.25, 1.7500000000000002]\n",
      "current active tool:  1\n",
      "swapping\n",
      "loss score: 0.8878508471493264\n",
      "RGB values observed: [0.5214456566565441, 0.8677704045289244, 0.6738699558854772]\n",
      "Starting iteration 2\n",
      "Dispensing into well 3.A3\n",
      "RYB values tested: [0.  0.6 0.4]\n",
      "RYB after norm in sample func:  [0.0, 0.6, 0.4]\n",
      "Dispensing volumes:  [0.0, 3.0, 2.0]\n",
      "current active tool:  1\n",
      "swapping\n",
      "loss score: 0.8648242112581447\n",
      "RGB values observed: [0.47362401429660456, 0.8524465439458129, 0.6808762918806783]\n",
      "Starting iteration 3\n",
      "Dispensing into well 3.A4\n",
      "RYB values tested: [0.06 0.63 0.31]\n",
      "RYB after norm in sample func:  [0.06, 0.63, 0.31]\n",
      "Dispensing volumes:  [0.3, 3.15, 1.55]\n",
      "current active tool:  1\n",
      "swapping\n",
      "loss score: 0.5380625778825575\n",
      "RGB values observed: [0.3855229383021533, 0.6271975405841113, 0.454831477524088]\n",
      "Starting iteration 4\n",
      "Dispensing into well 3.B1\n",
      "RYB values tested: [0.   0.83 0.17]\n",
      "RYB after norm in sample func:  [0.0, 0.8300000000000001, 0.17]\n",
      "Dispensing volumes:  [0.0, 4.15, 0.8500000000000001]\n",
      "current active tool:  1\n",
      "swapping\n",
      "loss score: 0.7189966905038733\n",
      "RGB values observed: [0.682995288618953, 0.8436816256139167, 0.5311238580837051]\n",
      "Starting iteration 5\n",
      "Dispensing into well 3.B2\n",
      "RYB values tested: [0.21 0.79 0.  ]\n",
      "RYB after norm in sample func:  [0.21, 0.79, 0.0]\n",
      "Dispensing volumes:  [1.05, 3.95, 0.0]\n",
      "current active tool:  1\n",
      "swapping\n",
      "loss score: 0.36433722224889353\n",
      "RGB values observed: [0.990673215111411, 0.6801534635524064, 0.3928681938039716]\n",
      "Starting iteration 6\n",
      "Dispensing into well 3.B3\n",
      "RYB values tested: [0.   0.56 0.44]\n",
      "RYB after norm in sample func:  [0.0, 0.56, 0.44]\n",
      "Dispensing volumes:  [0.0, 2.8000000000000003, 2.2]\n",
      "current active tool:  1\n",
      "swapping\n",
      "loss score: 0.8791943726021343\n",
      "RGB values observed: [0.44834801734588037, 0.8713825466451718, 0.7389534985440959]\n",
      "Starting iteration 7\n",
      "Dispensing into well 3.B4\n",
      "RYB values tested: [0.   0.69 0.31]\n",
      "RYB after norm in sample func:  [0.0, 0.6900000000000001, 0.31]\n",
      "Dispensing volumes:  [0.0, 3.45, 1.55]\n",
      "current active tool:  1\n",
      "swapping\n",
      "loss score: 0.5573014671385652\n",
      "RGB values observed: [0.3588002849323286, 0.6816885989577476, 0.44416950974143643]\n",
      "Starting iteration 8\n",
      "Dispensing into well 3.C1\n",
      "RYB values tested: [0.38 0.   0.62]\n",
      "RYB after norm in sample func:  [0.38, 0.0, 0.62]\n",
      "Dispensing volumes:  [1.9, 0.0, 3.1]\n",
      "current active tool:  1\n",
      "swapping\n",
      "loss score: 0.4475280966992341\n",
      "RGB values observed: [0.31292817955735514, 0.45521438658318647, 0.6604176508079331]\n",
      "Starting iteration 9\n",
      "Dispensing into well 3.C2\n",
      "RYB values tested: [0.   0.63 0.37]\n",
      "RYB after norm in sample func:  [0.0, 0.63, 0.37]\n",
      "Dispensing volumes:  [0.0, 3.15, 1.85]\n",
      "current active tool:  1\n",
      "swapping\n",
      "loss score: 0.595523851630657\n",
      "RGB values observed: [0.3490296054687012, 0.717401617115935, 0.4754810732451043]\n",
      "Starting iteration 10\n",
      "Dispensing into well 3.C3\n",
      "RYB values tested: [0.   0.35 0.65]\n",
      "RYB after norm in sample func:  [0.0, 0.35000000000000003, 0.65]\n",
      "Dispensing volumes:  [0.0, 1.7500000000000002, 3.25]\n",
      "current active tool:  1\n",
      "swapping\n",
      "loss score: 0.5041316468393211\n",
      "RGB values observed: [0.18136742523650634, 0.6516507329509241, 0.5764161011759706]\n",
      "Starting iteration 11\n",
      "Dispensing into well 3.C4\n",
      "RYB values tested: [0.08 0.75 0.17]\n",
      "RYB after norm in sample func:  [0.08, 0.75, 0.17]\n",
      "Dispensing volumes:  [0.4, 3.75, 0.8500000000000001]\n"
     ]
    }
   ],
   "source": [
    "sample_volume = 5 # mL\n",
    "n_points = 101\n",
    "\n",
    "# define possible sampling grid\n",
    "available_points = user_functions.get_constrained_points(n_points)\n",
    "kernel = kernels.Matern(nu = 1/2)\n",
    "#kernel = kernels.DotProduct()\n",
    "internal_model = model.GaussianProcessModel(kernel, scale = True, alpha = 1e-5)\n",
    "acq_kwargs = {'xi':0.25}\n",
    "# we know we are working with a 3-variable constrained design space here so can just hard-code that\n",
    "# instantiate a bayesian optimizer object\n",
    "bo = bayesian_optimizer.BayesianOptimizer(None, acquisition_function, internal_model, initial_data, valid_points = available_points, acq_kwargs = acq_kwargs)\n",
    "\n",
    "# check that we have enough sample wells for the number of iterations we want to run \n",
    "\n",
    "# get first set of points from model\n",
    "query_point = bo.campaign_iteration(None, None)[0]\n",
    "\n",
    "print('first query pt: ', query_point)\n",
    "rgb_values_sampled = []\n",
    "ryb_points_sampled = []\n",
    "for i in range(number_of_iterations):\n",
    "    # query point from BO model\n",
    "    # get well\n",
    "    print(f'Starting iteration {i}')\n",
    "    well = jubilee.next_sample_well()\n",
    "    # run point in real world\n",
    "    print(f'Dispensing into well {well}')\n",
    "    print(f'RYB values tested: {query_point}')\n",
    "    new_color = user_functions.sample_point(jubilee, query_point, sample_volume, well)\n",
    "    ryb_points_sampled.append(query_point)\n",
    "    rgb_values_sampled.append(new_color)\n",
    "    norm_rgb = user_functions.normalize_color(new_color)\n",
    "    score = user_functions.color_loss_calculation(target_color, user_functions.normalize_color(norm_rgb))\n",
    "\n",
    "    print(f'loss score: {score}')\n",
    "\n",
    "    print(f'RGB values observed: {norm_rgb}')\n",
    "    query_point = bo.campaign_iteration(query_point, score)[0]"
   ]
  },
  {
   "cell_type": "code",
   "execution_count": 17,
   "id": "2e4b570d-fa9e-4012-813e-46b263371f12",
   "metadata": {},
   "outputs": [
    {
     "data": {
      "text/plain": [
       "[[232.92976418100702, 68.76800509878903, 106.5544933078394],\n",
       " [214.89904397705544, 188.51790949649458, 56.20280433397068],\n",
       " [143.3304015296367, 108.46016571064372, 161.66449968132568],\n",
       " [199.39502868068834, 66.61924792861696, 60.53435309114085],\n",
       " [1.0916398713826367, 180.52734225621415, 219.6636073932441],\n",
       " [115.89496494582536, 115.61644359464627, 165.61147227533462],\n",
       " [178.87482472912683, 105.61516889738687, 158.9182919056724],\n",
       " [118.88986615678776, 108.74327597195666, 117.24869343530911],\n",
       " [123.64576163161249, 85.58750796685787, 121.10630975143404],\n",
       " [205.8302103250478, 60.15615041427661, 72.3176545570427],\n",
       " [114.634034416826, 121.30860420650096, 102.04079031230083],\n",
       " [86.5812619502868, 87.1338432122371, 114.8089228808158]]"
      ]
     },
     "execution_count": 17,
     "metadata": {},
     "output_type": "execute_result"
    }
   ],
   "source": [
    "rgb_values_sampled"
   ]
  },
  {
   "cell_type": "code",
   "execution_count": 18,
   "id": "97f155a0-5d88-42f6-bf02-d16aae72d988",
   "metadata": {},
   "outputs": [
    {
     "data": {
      "text/plain": [
       "[{'sample_id': '0',\n",
       "  'RYB_point': [0.37, 0.49, 0.14],\n",
       "  'RGB_measured': [101.51293817718292,\n",
       "   103.28718929254302,\n",
       "   172.56010197578075]},\n",
       " {'sample_id': '1',\n",
       "  'RYB_point': [0.72, 0.14, 0.14],\n",
       "  'RGB_measured': [133.88859145952836, 95.62651370299554, 181.11612492033143]},\n",
       " {'sample_id': '2',\n",
       "  'RYB_point': [0.35000000000000003, 0.61, 0.04],\n",
       "  'RGB_measured': [115.27877629063097, 136.3812619502868, 200.83671128107073]},\n",
       " {'sample_id': '3',\n",
       "  'RYB_point': [0.55, 0.2, 0.25],\n",
       "  'RGB_measured': [125.35436583811345, 92.0970044614404, 144.84537922243467]},\n",
       " {'sample_id': '4',\n",
       "  'RYB_point': [0.27, 0.33, 0.4],\n",
       "  'RGB_measured': [128.74225621414914,\n",
       "   108.36583811344805,\n",
       "   151.20038240917782]},\n",
       " {'sample_id': '5',\n",
       "  'RYB_point': [0.25, 0.25, 0.5],\n",
       "  'RGB_measured': [184.46513702995537, 166.2295729764181, 126.10325047801147]},\n",
       " {'sample_id': '6',\n",
       "  'RYB_point': [0.26, 0.12, 0.62],\n",
       "  'RGB_measured': [183.86271510516252,\n",
       "   148.26602931803697,\n",
       "   114.18891013384321]},\n",
       " {'sample_id': '7',\n",
       "  'RYB_point': [0.17, 0.22, 0.61],\n",
       "  'RGB_measured': [155.67316762268962, 137.58291905672402, 91.40994263862332]},\n",
       " {'sample_id': '8',\n",
       "  'RYB_point': [0.62, 0.23, 0.15],\n",
       "  'RGB_measured': [101.65162523900574, 75.32708731676227, 124.94123645634161]},\n",
       " {'sample_id': '9',\n",
       "  'RYB_point': [0.05, 0.45, 0.5],\n",
       "  'RGB_measured': [124.32045889101339, 152.30350541746336, 79.89751434034417]},\n",
       " {'sample_id': '10',\n",
       "  'RYB_point': [0.21, 0.32, 0.47000000000000003],\n",
       "  'RGB_measured': [124.41771829190567, 114.85315487571702, 91.40866794136393]},\n",
       " {'sample_id': '11',\n",
       "  'RYB_point': [0.12, 0.15, 0.73],\n",
       "  'RGB_measured': [130.52836201402167,\n",
       "   111.74748247291268,\n",
       "   47.026641172721476]}]"
      ]
     },
     "execution_count": 18,
     "metadata": {},
     "output_type": "execute_result"
    }
   ],
   "source": [
    "init_data"
   ]
  },
  {
   "cell_type": "code",
   "execution_count": 28,
   "id": "b62238f5-30a8-4991-a4ef-279c693b054b",
   "metadata": {},
   "outputs": [],
   "source": [
    "for i in range(12, 24):\n",
    "    point = {}\n",
    "    point['sample_id'] = str(i)\n",
    "    point['RYB_point'] = list(ryb_points_sampled[i-12])\n",
    "    point['RGB_measured'] = rgb_values_sampled[i-12]\n",
    "    init_data.append(point)"
   ]
  },
  {
   "cell_type": "code",
   "execution_count": 29,
   "id": "a5a96a1b-ff77-42ef-844a-9b5f7504ec03",
   "metadata": {},
   "outputs": [
    {
     "data": {
      "text/plain": [
       "[{'sample_id': '0',\n",
       "  'RYB_point': [0.37, 0.49, 0.14],\n",
       "  'RGB_measured': [101.51293817718292,\n",
       "   103.28718929254302,\n",
       "   172.56010197578075]},\n",
       " {'sample_id': '1',\n",
       "  'RYB_point': [0.72, 0.14, 0.14],\n",
       "  'RGB_measured': [133.88859145952836, 95.62651370299554, 181.11612492033143]},\n",
       " {'sample_id': '2',\n",
       "  'RYB_point': [0.35000000000000003, 0.61, 0.04],\n",
       "  'RGB_measured': [115.27877629063097, 136.3812619502868, 200.83671128107073]},\n",
       " {'sample_id': '3',\n",
       "  'RYB_point': [0.55, 0.2, 0.25],\n",
       "  'RGB_measured': [125.35436583811345, 92.0970044614404, 144.84537922243467]},\n",
       " {'sample_id': '4',\n",
       "  'RYB_point': [0.27, 0.33, 0.4],\n",
       "  'RGB_measured': [128.74225621414914,\n",
       "   108.36583811344805,\n",
       "   151.20038240917782]},\n",
       " {'sample_id': '5',\n",
       "  'RYB_point': [0.25, 0.25, 0.5],\n",
       "  'RGB_measured': [184.46513702995537, 166.2295729764181, 126.10325047801147]},\n",
       " {'sample_id': '6',\n",
       "  'RYB_point': [0.26, 0.12, 0.62],\n",
       "  'RGB_measured': [183.86271510516252,\n",
       "   148.26602931803697,\n",
       "   114.18891013384321]},\n",
       " {'sample_id': '7',\n",
       "  'RYB_point': [0.17, 0.22, 0.61],\n",
       "  'RGB_measured': [155.67316762268962, 137.58291905672402, 91.40994263862332]},\n",
       " {'sample_id': '8',\n",
       "  'RYB_point': [0.62, 0.23, 0.15],\n",
       "  'RGB_measured': [101.65162523900574, 75.32708731676227, 124.94123645634161]},\n",
       " {'sample_id': '9',\n",
       "  'RYB_point': [0.05, 0.45, 0.5],\n",
       "  'RGB_measured': [124.32045889101339, 152.30350541746336, 79.89751434034417]},\n",
       " {'sample_id': '10',\n",
       "  'RYB_point': [0.21, 0.32, 0.47000000000000003],\n",
       "  'RGB_measured': [124.41771829190567, 114.85315487571702, 91.40866794136393]},\n",
       " {'sample_id': '11',\n",
       "  'RYB_point': [0.12, 0.15, 0.73],\n",
       "  'RGB_measured': [130.52836201402167,\n",
       "   111.74748247291268,\n",
       "   47.026641172721476]},\n",
       " {'sample_id': '12',\n",
       "  'RYB_point': [1.0, 0.0, 0.0],\n",
       "  'RGB_measured': [232.92976418100702, 68.76800509878903, 106.5544933078394]},\n",
       " {'sample_id': '13',\n",
       "  'RYB_point': [0.0, 1.0, 0.0],\n",
       "  'RGB_measured': [214.89904397705544, 188.51790949649458, 56.20280433397068]},\n",
       " {'sample_id': '14',\n",
       "  'RYB_point': [0.7000000000000001, 0.0, 0.3],\n",
       "  'RGB_measured': [143.3304015296367, 108.46016571064372, 161.66449968132568]},\n",
       " {'sample_id': '15',\n",
       "  'RYB_point': [0.6, 0.4, 0.0],\n",
       "  'RGB_measured': [199.39502868068834, 66.61924792861696, 60.53435309114085]},\n",
       " {'sample_id': '16',\n",
       "  'RYB_point': [0.0, 0.0, 1.0],\n",
       "  'RGB_measured': [1.0916398713826367, 180.52734225621415, 219.6636073932441]},\n",
       " {'sample_id': '17',\n",
       "  'RYB_point': [0.55, 0.0, 0.45],\n",
       "  'RGB_measured': [115.89496494582536,\n",
       "   115.61644359464627,\n",
       "   165.61147227533462]},\n",
       " {'sample_id': '18',\n",
       "  'RYB_point': [0.8200000000000001, 0.0, 0.18],\n",
       "  'RGB_measured': [178.87482472912683, 105.61516889738687, 158.9182919056724]},\n",
       " {'sample_id': '19',\n",
       "  'RYB_point': [0.39, 0.35000000000000003, 0.26],\n",
       "  'RGB_measured': [118.88986615678776,\n",
       "   108.74327597195666,\n",
       "   117.24869343530911]},\n",
       " {'sample_id': '20',\n",
       "  'RYB_point': [0.66, 0.1, 0.24],\n",
       "  'RGB_measured': [123.64576163161249, 85.58750796685787, 121.10630975143404]},\n",
       " {'sample_id': '21',\n",
       "  'RYB_point': [0.8200000000000001, 0.18, 0.0],\n",
       "  'RGB_measured': [205.8302103250478, 60.15615041427661, 72.3176545570427]},\n",
       " {'sample_id': '22',\n",
       "  'RYB_point': [0.23, 0.56, 0.21],\n",
       "  'RGB_measured': [114.634034416826, 121.30860420650096, 102.04079031230083]},\n",
       " {'sample_id': '23',\n",
       "  'RYB_point': [0.48, 0.14, 0.38],\n",
       "  'RGB_measured': [86.5812619502868, 87.1338432122371, 114.8089228808158]}]"
      ]
     },
     "execution_count": 29,
     "metadata": {},
     "output_type": "execute_result"
    }
   ],
   "source": [
    "init_data"
   ]
  },
  {
   "cell_type": "code",
   "execution_count": 31,
   "id": "3b2b2856-a958-4bea-a33e-985178915213",
   "metadata": {},
   "outputs": [],
   "source": [
    "with open('initial_data_24pts_combine.jsonl', 'wt') as f:\n",
    "    for entry in init_data:\n",
    "        f.write(json.dumps(entry) + '\\n')"
   ]
  },
  {
   "cell_type": "code",
   "execution_count": 70,
   "id": "878f96b3-535b-4d1f-9b4e-3ae245073a05",
   "metadata": {},
   "outputs": [],
   "source": [
    "#image = cv2.imread('sampleimage_masked_1687813525.8915021.jpg')\n",
    "image = cv2.imread('sampleimage_masked_1687813298.037668.jpg')"
   ]
  },
  {
   "cell_type": "code",
   "execution_count": 71,
   "id": "b6c6921e-f819-44e7-96fa-0a16e50b97d5",
   "metadata": {},
   "outputs": [],
   "source": [
    "from jubileedemo import image_processing"
   ]
  },
  {
   "cell_type": "code",
   "execution_count": 72,
   "id": "6cf547f1-9a14-460f-8d9d-4f258a2fe20d",
   "metadata": {},
   "outputs": [
    {
     "name": "stdout",
     "output_type": "stream",
     "text": [
      "swapping\n"
     ]
    }
   ],
   "source": [
    "rgb = image_processing._get_rgb_avg(image)"
   ]
  },
  {
   "cell_type": "code",
   "execution_count": 73,
   "id": "1f1dcfb6-6de3-494d-8f53-42e1f673ed94",
   "metadata": {},
   "outputs": [],
   "source": [
    "norm_rgb = user_functions.normalize_color(rgb)"
   ]
  },
  {
   "cell_type": "code",
   "execution_count": 74,
   "id": "7a818045-9350-4483-9452-a9441452458a",
   "metadata": {},
   "outputs": [
    {
     "data": {
      "text/plain": [
       "0.2617500255474996"
      ]
     },
     "execution_count": 74,
     "metadata": {},
     "output_type": "execute_result"
    }
   ],
   "source": [
    "user_functions.color_loss_calculation(target_color, norm_rgb)"
   ]
  },
  {
   "cell_type": "code",
   "execution_count": 75,
   "id": "76181ffd-de5b-4263-b8d1-b60d77c2f2b9",
   "metadata": {},
   "outputs": [
    {
     "data": {
      "text/plain": [
       "[0.6621086280218055, 0.19737187036334725, 0.28539823707644374]"
      ]
     },
     "execution_count": 75,
     "metadata": {},
     "output_type": "execute_result"
    }
   ],
   "source": [
    "norm_rgb"
   ]
  },
  {
   "cell_type": "code",
   "execution_count": 76,
   "id": "81760b69-6103-46e3-a21b-2eb0288acc4a",
   "metadata": {},
   "outputs": [
    {
     "data": {
      "text/plain": [
       "[0.5333333333333333, 0.011764705882352941, 0.9882352941176471]"
      ]
     },
     "execution_count": 76,
     "metadata": {},
     "output_type": "execute_result"
    }
   ],
   "source": [
    "target_color"
   ]
  },
  {
   "cell_type": "code",
   "execution_count": null,
   "id": "dac47e9a-cc8c-4303-8e5f-0395206e937e",
   "metadata": {},
   "outputs": [],
   "source": []
  }
 ],
 "metadata": {
  "kernelspec": {
   "display_name": "Python 3 (ipykernel)",
   "language": "python",
   "name": "python3"
  },
  "language_info": {
   "codemirror_mode": {
    "name": "ipython",
    "version": 3
   },
   "file_extension": ".py",
   "mimetype": "text/x-python",
   "name": "python",
   "nbconvert_exporter": "python",
   "pygments_lexer": "ipython3",
   "version": "3.9.16"
  }
 },
 "nbformat": 4,
 "nbformat_minor": 5
}
