{
 "cells": [
  {
   "cell_type": "code",
   "execution_count": 43,
   "id": "bde380a5-0c9c-4fbd-96a9-a8ce3f2ce957",
   "metadata": {},
   "outputs": [
    {
     "name": "stdout",
     "output_type": "stream",
     "text": [
      "The autoreload extension is already loaded. To reload it, use:\n",
      "  %reload_ext autoreload\n"
     ]
    }
   ],
   "source": [
    "%load_ext autoreload\n",
    "%autoreload 2\n",
    "%matplotlib qt"
   ]
  },
  {
   "cell_type": "code",
   "execution_count": 19,
   "id": "292726c2-e3c3-430f-89c3-bcdfef2ea993",
   "metadata": {},
   "outputs": [],
   "source": [
    "from jubileedemo import meatspace_protocols as meat\n",
    "from jubileedemo import user_functions\n",
    "import numpy as np\n",
    "from bayesopt import acquisitions \n",
    "import json\n",
    "\n",
    "import cv2\n",
    "\n",
    "import bayesopt.bayesian_optimizer as bayesian_optimizer\n",
    "import bayesopt.model as model\n",
    "from sklearn.gaussian_process import GaussianProcessRegressor\n",
    "from sklearn.gaussian_process import kernels"
   ]
  },
  {
   "cell_type": "code",
   "execution_count": 20,
   "id": "7e3b1343-e175-4b96-b9a2-266d0662646f",
   "metadata": {},
   "outputs": [],
   "source": [
    "from jubileedemo import image_processing as img"
   ]
  },
  {
   "cell_type": "code",
   "execution_count": 21,
   "id": "9f6bd9d7-2783-4454-a5e1-786b2ebf4b34",
   "metadata": {},
   "outputs": [
    {
     "name": "stdout",
     "output_type": "stream",
     "text": [
      "Loading deck config file from deck_config.json\n"
     ]
    }
   ],
   "source": [
    "jub = meat.BayesianOptDemoDriver(deck_config_filepath = 'deck_config.json')"
   ]
  },
  {
   "cell_type": "code",
   "execution_count": 22,
   "id": "105eba72-35d0-47e5-bc84-ab8478f93597",
   "metadata": {},
   "outputs": [],
   "source": [
    "jub.safe_z = None"
   ]
  },
  {
   "cell_type": "raw",
   "id": "264af9a2-e5b1-42ac-930f-6115a0294a29",
   "metadata": {},
   "source": [
    "# prime pumps\n",
    "jub.prime_lines('2.A2', volume = 10)\n"
   ]
  },
  {
   "cell_type": "markdown",
   "id": "6509c5b9-de88-4c5e-8847-9baa647681af",
   "metadata": {
    "jp-MarkdownHeadingCollapsed": true
   },
   "source": [
    "# Get 12 points of random data"
   ]
  },
  {
   "cell_type": "code",
   "execution_count": 20,
   "id": "c208b3b1-346f-41ff-b53a-bcd245c16ac0",
   "metadata": {},
   "outputs": [],
   "source": [
    "sample_space = user_functions.get_constrained_points(101)"
   ]
  },
  {
   "cell_type": "code",
   "execution_count": 21,
   "id": "f42ad58c-740d-4c19-aaa1-97b2d17effd1",
   "metadata": {},
   "outputs": [],
   "source": [
    "n_init_points = 12\n",
    "sampled_indices = np.random.randint(0, len(sample_space), size = n_init_points)\n",
    "sampled_points = sample_space[sampled_indices]"
   ]
  },
  {
   "cell_type": "code",
   "execution_count": 22,
   "id": "32ae9548-78e9-4e46-9a4b-d043bb0be2aa",
   "metadata": {
    "scrolled": true
   },
   "outputs": [
    {
     "name": "stdout",
     "output_type": "stream",
     "text": [
      "creating sample\n",
      "[0.37 0.49 0.14]\n",
      "3.A1\n",
      "Dispensing volumes:  [1.85, 2.45, 0.7000000000000001]\n",
      "well image function\n",
      "current active tool:  1\n",
      "creating sample\n",
      "[0.72 0.14 0.14]\n",
      "3.A2\n",
      "Dispensing volumes:  [3.5999999999999996, 0.7000000000000001, 0.7000000000000001]\n",
      "well image function\n",
      "current active tool:  1\n",
      "creating sample\n",
      "[0.35 0.61 0.04]\n",
      "3.A3\n",
      "Dispensing volumes:  [1.7500000000000002, 3.05, 0.2]\n",
      "well image function\n",
      "current active tool:  1\n",
      "creating sample\n",
      "[0.55 0.2  0.25]\n",
      "3.A4\n",
      "Dispensing volumes:  [2.75, 1.0, 1.25]\n",
      "well image function\n",
      "current active tool:  1\n",
      "creating sample\n",
      "[0.27 0.33 0.4 ]\n",
      "3.B1\n",
      "Dispensing volumes:  [1.35, 1.6500000000000001, 2.0]\n",
      "well image function\n",
      "current active tool:  1\n",
      "creating sample\n",
      "[0.25 0.25 0.5 ]\n",
      "3.B2\n",
      "Dispensing volumes:  [1.25, 1.25, 2.5]\n",
      "well image function\n",
      "current active tool:  1\n",
      "creating sample\n",
      "[0.26 0.12 0.62]\n",
      "3.B3\n",
      "Dispensing volumes:  [1.3, 0.6, 3.1]\n",
      "well image function\n",
      "current active tool:  1\n",
      "creating sample\n",
      "[0.17 0.22 0.61]\n",
      "3.B4\n",
      "Dispensing volumes:  [0.8500000000000001, 1.1, 3.05]\n",
      "well image function\n",
      "current active tool:  1\n",
      "creating sample\n",
      "[0.62 0.23 0.15]\n",
      "3.C1\n",
      "Dispensing volumes:  [3.1, 1.1500000000000001, 0.75]\n",
      "well image function\n",
      "current active tool:  1\n",
      "creating sample\n",
      "[0.05 0.45 0.5 ]\n",
      "3.C2\n",
      "Dispensing volumes:  [0.25, 2.25, 2.5]\n",
      "well image function\n",
      "current active tool:  1\n",
      "creating sample\n",
      "[0.21 0.32 0.47]\n",
      "3.C3\n",
      "Dispensing volumes:  [1.05, 1.6, 2.35]\n",
      "well image function\n",
      "current active tool:  1\n",
      "creating sample\n",
      "[0.12 0.15 0.73]\n",
      "3.C4\n",
      "Dispensing volumes:  [0.6, 0.75, 3.65]\n",
      "well image function\n",
      "current active tool:  1\n"
     ]
    }
   ],
   "source": [
    "rgb_vals = []\n",
    "for i in range(len(sampled_points)):\n",
    "    point = sampled_points[i,:]\n",
    "    well = jub.next_sample_well()\n",
    "    print('creating sample')\n",
    "    print(point)\n",
    "    print(well)\n",
    "    \n",
    "    RGB = user_functions.sample_point(jub, point, 5, well)\n",
    "    rgb_vals.append(RGB)"
   ]
  },
  {
   "cell_type": "code",
   "execution_count": 34,
   "id": "68cd91b8-6091-42a4-af40-906322a49d4c",
   "metadata": {},
   "outputs": [],
   "source": [
    "loss_vals = [user_functions.color_loss_calculation(target_color, user_functions.normalize_color(rgb)) for rgb in rgb_vals]"
   ]
  },
  {
   "cell_type": "code",
   "execution_count": 44,
   "id": "789da582-8c6c-47ba-92e0-deb7255e21e4",
   "metadata": {},
   "outputs": [],
   "source": [
    "init_data = []\n",
    "for i in range(len(sampled_points)):\n",
    "    data = {}\n",
    "    data['sample_id'] = str(i)\n",
    "    data['RYB_point'] = list(sampled_points[i])\n",
    "    data['RGB_measured'] = rgb_vals[i]\n",
    "\n",
    "    init_data.append(data)\n",
    "    "
   ]
  },
  {
   "cell_type": "code",
   "execution_count": 45,
   "id": "9eb14426-7720-4376-9a61-82666cdc4da3",
   "metadata": {},
   "outputs": [],
   "source": [
    "with open('initial_data_random_12.jsonl', 'wt') as f:\n",
    "    for entry in init_data:\n",
    "        f.write(json.dumps(entry) + '\\n')"
   ]
  },
  {
   "cell_type": "markdown",
   "id": "e32a637b-a3f1-41dc-8488-8f9cb88b27ce",
   "metadata": {},
   "source": [
    "# BO campaign"
   ]
  },
  {
   "cell_type": "code",
   "execution_count": 25,
   "id": "fe33469c-6cdf-4956-8249-e47a8a128d53",
   "metadata": {},
   "outputs": [],
   "source": [
    "target_color = (178, 255, 102) #peachy\n",
    "target_color = user_functions.normalize_color(target_color)"
   ]
  },
  {
   "cell_type": "code",
   "execution_count": 26,
   "id": "264ca7ed-97f0-4f17-baae-508f9c4a6617",
   "metadata": {},
   "outputs": [],
   "source": [
    "init_data = []\n",
    "\n",
    "with open('initial_data_random_12.jsonl', 'rt') as f:\n",
    "    for line in f:\n",
    "        init_data.append(json.loads(line))"
   ]
  },
  {
   "cell_type": "code",
   "execution_count": 27,
   "id": "dfe4dfe8-6186-4a50-a3ba-c6cefc23a2d5",
   "metadata": {},
   "outputs": [],
   "source": [
    "init_X = np.zeros((len(init_data),3))\n",
    "init_y = np.zeros(len(init_data))\n",
    "\n",
    "for i, entry in enumerate(init_data):\n",
    "    init_X[i,:] = entry['RYB_point']\n",
    "    init_y[i] = user_functions.color_loss_calculation(target_color, user_functions.normalize_color(entry['RGB_measured']))\n",
    "    "
   ]
  },
  {
   "cell_type": "code",
   "execution_count": 28,
   "id": "ee11c479-d6fd-466c-93d1-32e1732b433f",
   "metadata": {},
   "outputs": [],
   "source": [
    "acquisition_function = acquisitions.optimize_EI"
   ]
  },
  {
   "cell_type": "code",
   "execution_count": 31,
   "id": "7b54c76b-fc25-47fc-ba95-a48827b3278a",
   "metadata": {},
   "outputs": [],
   "source": [
    "initial_data = (init_X, init_y)\n",
    "number_of_iterations = 21\n",
    "jubilee = jub"
   ]
  },
  {
   "cell_type": "code",
   "execution_count": 32,
   "id": "e455d5c8-b9c7-4a7f-aec4-734a9f884b83",
   "metadata": {
    "scrolled": true
   },
   "outputs": [
    {
     "name": "stdout",
     "output_type": "stream",
     "text": [
      "first query pt:  [0. 1. 0.]\n",
      "Starting iteration 0\n",
      "Dispensing into well 3.A4\n",
      "RYB values tested: [0. 1. 0.]\n",
      "RYB after norm in sample func:  [0.0, 1.0, 0.0]\n",
      "Dispensing volumes:  [0.0, 5.0, 0.0]\n",
      "current active tool:  1\n",
      "swapping\n",
      "loss score: 0.5447787628585046\n",
      "RGB values observed: [0.8328626951099114, 0.7222109748934629, 0.06551194091403291]\n",
      "Starting iteration 1\n",
      "Dispensing into well 3.B1\n",
      "RYB values tested: [0. 0. 1.]\n",
      "RYB after norm in sample func:  [0.0, 0.0, 1.0]\n",
      "Dispensing volumes:  [0.0, 0.0, 5.0]\n",
      "current active tool:  1\n",
      "swapping\n",
      "loss score: 0.10501684450842363\n",
      "RGB values observed: [0.0073154719879107676, 0.5567192791711969, 0.7569282295454829]\n",
      "Starting iteration 2\n",
      "Dispensing into well 3.B2\n",
      "RYB values tested: [1. 0. 0.]\n",
      "RYB after norm in sample func:  [1.0, 0.0, 0.0]\n",
      "Dispensing volumes:  [5.0, 0.0, 0.0]\n",
      "current active tool:  1\n",
      "swapping\n",
      "loss score: 0.24923765393396868\n",
      "RGB values observed: [0.9714727752158863, 0.30239068221297444, 0.4471108111823442]\n",
      "Starting iteration 3\n",
      "Dispensing into well 3.B3\n",
      "RYB values tested: [0.   0.75 0.25]\n",
      "RYB after norm in sample func:  [0.0, 0.75, 0.25]\n",
      "Dispensing volumes:  [0.0, 3.75, 1.25]\n",
      "current active tool:  1\n",
      "swapping\n",
      "loss score: 0.7707809856387775\n",
      "RGB values observed: [0.5527352253839714, 0.8245971581749334, 0.425728389507492]\n",
      "Starting iteration 4\n",
      "Dispensing into well 3.B4\n",
      "RYB values tested: [0.   0.65 0.35]\n",
      "RYB after norm in sample func:  [0.0, 0.65, 0.35000000000000003]\n",
      "Dispensing volumes:  [0.0, 3.25, 1.7500000000000002]\n",
      "current active tool:  1\n",
      "swapping\n",
      "loss score: 0.6614111503956601\n",
      "RGB values observed: [0.4696014696509579, 0.826642172484035, 0.5800157462602632]\n",
      "Starting iteration 5\n",
      "Dispensing into well 3.C1\n",
      "RYB values tested: [0.   0.84 0.16]\n",
      "RYB after norm in sample func:  [0.0, 0.84, 0.16]\n",
      "Dispensing volumes:  [0.0, 4.2, 0.8]\n",
      "current active tool:  1\n",
      "swapping\n",
      "loss score: 0.323578775912024\n",
      "RGB values observed: [0.42172733975680776, 0.3826076306877117, 0.39509266549194566]\n",
      "Starting iteration 6\n",
      "Dispensing into well 3.C2\n",
      "RYB values tested: [0.46 0.   0.54]\n",
      "RYB after norm in sample func:  [0.46, 0.0, 0.54]\n",
      "Dispensing volumes:  [2.3000000000000003, 0.0, 2.7]\n",
      "current active tool:  1\n",
      "swapping\n",
      "loss score: 0.33404652083845154\n",
      "RGB values observed: [0.42853372324073036, 0.39102463164998313, 0.4031347554955698]\n",
      "Starting iteration 7\n",
      "Dispensing into well 3.C3\n",
      "RYB values tested: [0.09 0.66 0.25]\n",
      "RYB after norm in sample func:  [0.09, 0.66, 0.25]\n",
      "Dispensing volumes:  [0.44999999999999996, 3.3000000000000003, 1.25]\n",
      "current active tool:  1\n",
      "swapping\n",
      "loss score: 0.33087763634093736\n",
      "RGB values observed: [0.4271660480635849, 0.38816281133230857, 0.4027783401442157]\n",
      "Starting iteration 8\n",
      "Dispensing into well 3.C4\n",
      "RYB values tested: [0.   0.36 0.64]\n",
      "RYB after norm in sample func:  [0.0, 0.36, 0.64]\n",
      "Dispensing volumes:  [0.0, 1.7999999999999998, 3.2]\n",
      "current active tool:  1\n",
      "swapping\n",
      "loss score: 0.333666788451197\n",
      "RGB values observed: [0.4307796898236669, 0.389644959322161, 0.40624651645234255]\n",
      "Starting iteration 9\n",
      "Dispensing into well 4.A1\n",
      "RYB values tested: [0.   0.57 0.43]\n",
      "RYB after norm in sample func:  [0.0, 0.5700000000000001, 0.43]\n",
      "Dispensing volumes:  [0.0, 2.8500000000000005, 2.15]\n",
      "current active tool:  1\n",
      "swapping\n",
      "loss score: 0.3309268858267491\n",
      "RGB values observed: [0.4279483622639623, 0.38786488209050346, 0.4006003574151139]\n",
      "Starting iteration 10\n",
      "Dispensing into well 4.A2\n",
      "RYB values tested: [0.18 0.82 0.  ]\n",
      "RYB after norm in sample func:  [0.18, 0.8200000000000001, 0.0]\n",
      "Dispensing volumes:  [0.8999999999999999, 4.1000000000000005, 0.0]\n",
      "current active tool:  1\n",
      "swapping\n",
      "loss score: 0.33362306037543543\n",
      "RGB values observed: [0.43084067533960685, 0.38954948199802547, 0.40365113285594667]\n",
      "Starting iteration 11\n",
      "Dispensing into well 4.A3\n",
      "RYB values tested: [0.   0.71 0.29]\n",
      "RYB after norm in sample func:  [0.0, 0.71, 0.29]\n",
      "Dispensing volumes:  [0.0, 3.55, 1.45]\n",
      "current active tool:  1\n",
      "swapping\n",
      "loss score: 0.33264071637643744\n",
      "RGB values observed: [0.4299668828653195, 0.38885464702133243, 0.4026448718429373]\n",
      "Starting iteration 12\n",
      "Dispensing into well 4.A4\n",
      "RYB values tested: [0.34 0.16 0.5 ]\n",
      "RYB after norm in sample func:  [0.34, 0.16, 0.5]\n",
      "Dispensing volumes:  [1.7000000000000002, 0.8, 2.5]\n",
      "current active tool:  1\n",
      "swapping\n",
      "loss score: 0.3328197311898037\n",
      "RGB values observed: [0.4295199890026119, 0.3892745472950174, 0.4064309726439971]\n",
      "Starting iteration 13\n",
      "Dispensing into well 4.B1\n",
      "RYB values tested: [0.27 0.   0.73]\n",
      "RYB after norm in sample func:  [0.27, 0.0, 0.73]\n",
      "Dispensing volumes:  [1.35, 0.0, 3.65]\n",
      "current active tool:  1\n",
      "swapping\n",
      "loss score: 0.33337673665399015\n",
      "RGB values observed: [0.4288596458341144, 0.39015383846336493, 0.4040735325360227]\n",
      "Starting iteration 14\n",
      "Dispensing into well 4.B2\n",
      "RYB values tested: [0.58 0.42 0.  ]\n",
      "RYB after norm in sample func:  [0.58, 0.42, 0.0]\n",
      "Dispensing volumes:  [2.9, 2.1, 0.0]\n",
      "current active tool:  1\n",
      "swapping\n",
      "loss score: 0.3302210281550688\n",
      "RGB values observed: [0.4266131793698996, 0.3876869243554656, 0.4021154975693273]\n",
      "Starting iteration 15\n",
      "Dispensing into well 4.B3\n",
      "RYB values tested: [0.67 0.   0.33]\n",
      "RYB after norm in sample func:  [0.67, 0.0, 0.33]\n",
      "Dispensing volumes:  [3.35, 0.0, 1.6500000000000001]\n",
      "current active tool:  1\n",
      "swapping\n",
      "loss score: 0.3213855843102271\n",
      "RGB values observed: [0.41871605493695246, 0.38155438083455184, 0.3954050912908184]\n",
      "Starting iteration 16\n",
      "Dispensing into well 4.B4\n",
      "RYB values tested: [0.8 0.2 0. ]\n",
      "RYB after norm in sample func:  [0.8, 0.2, 0.0]\n",
      "Dispensing volumes:  [4.0, 1.0, 0.0]\n",
      "current active tool:  1\n",
      "swapping\n",
      "loss score: 0.3217413007786405\n",
      "RGB values observed: [0.4204336470088354, 0.3811719716567315, 0.3953221109986378]\n",
      "Starting iteration 17\n",
      "Dispensing into well 4.C1\n",
      "RYB values tested: [0.16 0.49 0.35]\n",
      "RYB after norm in sample func:  [0.16, 0.49, 0.35000000000000003]\n",
      "Dispensing volumes:  [0.8, 2.45, 1.7500000000000002]\n",
      "current active tool:  1\n",
      "swapping\n",
      "loss score: 0.32269212698079064\n",
      "RGB values observed: [0.4203616641047751, 0.382257213911696, 0.3940854047163799]\n",
      "Starting iteration 18\n",
      "Dispensing into well 4.C2\n",
      "RYB values tested: [0.84 0.   0.16]\n",
      "RYB after norm in sample func:  [0.84, 0.0, 0.16]\n",
      "Dispensing volumes:  [4.2, 0.0, 0.8]\n",
      "current active tool:  1\n",
      "swapping\n",
      "loss score: 0.3329287114798145\n",
      "RGB values observed: [0.427764405953586, 0.39014284107524466, 0.4031427535960209]\n",
      "Starting iteration 19\n",
      "Dispensing into well 4.C3\n",
      "RYB values tested: [0.12 0.32 0.56]\n",
      "RYB after norm in sample func:  [0.12, 0.32, 0.56]\n",
      "Dispensing volumes:  [0.6, 1.6, 2.8000000000000003]\n",
      "current active tool:  1\n",
      "swapping\n",
      "loss score: 0.33370853724463845\n",
      "RGB values observed: [0.42927254776990464, 0.3903342956047938, 0.4040645346730151]\n",
      "Starting iteration 20\n",
      "Dispensing into well 4.C4\n",
      "RYB values tested: [0.24 0.2  0.56]\n",
      "RYB after norm in sample func:  [0.24, 0.2, 0.56]\n",
      "Dispensing volumes:  [1.2, 1.0, 2.8000000000000003]\n",
      "current active tool:  1\n",
      "swapping\n",
      "loss score: 0.3339358980581505\n",
      "RGB values observed: [0.43015383846336497, 0.39019782801584624, 0.4044859345905348]\n"
     ]
    }
   ],
   "source": [
    "bo_obj, ryb_sampled, rgb_measured = user_functions.BO_campaign(initial_data, acquisition_function, number_of_iterations, target_color, jubilee)"
   ]
  },
  {
   "cell_type": "code",
   "execution_count": 7,
   "id": "f3eb96db-ba37-4a0e-8b94-a75897b353e8",
   "metadata": {},
   "outputs": [],
   "source": [
    "import pickle"
   ]
  },
  {
   "cell_type": "code",
   "execution_count": 33,
   "id": "890a2010-3995-467e-8338-335ac46546e4",
   "metadata": {},
   "outputs": [
    {
     "data": {
      "text/plain": [
       "<bayesopt.bayesian_optimizer.BayesianOptimizer at 0x17c7b5070>"
      ]
     },
     "execution_count": 33,
     "metadata": {},
     "output_type": "execute_result"
    }
   ],
   "source": [
    "with open("
   ]
  },
  {
   "cell_type": "code",
   "execution_count": 28,
   "id": "b62238f5-30a8-4991-a4ef-279c693b054b",
   "metadata": {},
   "outputs": [],
   "source": [
    "for i in range(12, 24):\n",
    "    point = {}\n",
    "    point['sample_id'] = str(i)\n",
    "    point['RYB_point'] = list(ryb_points_sampled[i-12])\n",
    "    point['RGB_measured'] = rgb_values_sampled[i-12]\n",
    "    init_data.append(point)"
   ]
  },
  {
   "cell_type": "code",
   "execution_count": 29,
   "id": "a5a96a1b-ff77-42ef-844a-9b5f7504ec03",
   "metadata": {},
   "outputs": [
    {
     "data": {
      "text/plain": [
       "[{'sample_id': '0',\n",
       "  'RYB_point': [0.37, 0.49, 0.14],\n",
       "  'RGB_measured': [101.51293817718292,\n",
       "   103.28718929254302,\n",
       "   172.56010197578075]},\n",
       " {'sample_id': '1',\n",
       "  'RYB_point': [0.72, 0.14, 0.14],\n",
       "  'RGB_measured': [133.88859145952836, 95.62651370299554, 181.11612492033143]},\n",
       " {'sample_id': '2',\n",
       "  'RYB_point': [0.35000000000000003, 0.61, 0.04],\n",
       "  'RGB_measured': [115.27877629063097, 136.3812619502868, 200.83671128107073]},\n",
       " {'sample_id': '3',\n",
       "  'RYB_point': [0.55, 0.2, 0.25],\n",
       "  'RGB_measured': [125.35436583811345, 92.0970044614404, 144.84537922243467]},\n",
       " {'sample_id': '4',\n",
       "  'RYB_point': [0.27, 0.33, 0.4],\n",
       "  'RGB_measured': [128.74225621414914,\n",
       "   108.36583811344805,\n",
       "   151.20038240917782]},\n",
       " {'sample_id': '5',\n",
       "  'RYB_point': [0.25, 0.25, 0.5],\n",
       "  'RGB_measured': [184.46513702995537, 166.2295729764181, 126.10325047801147]},\n",
       " {'sample_id': '6',\n",
       "  'RYB_point': [0.26, 0.12, 0.62],\n",
       "  'RGB_measured': [183.86271510516252,\n",
       "   148.26602931803697,\n",
       "   114.18891013384321]},\n",
       " {'sample_id': '7',\n",
       "  'RYB_point': [0.17, 0.22, 0.61],\n",
       "  'RGB_measured': [155.67316762268962, 137.58291905672402, 91.40994263862332]},\n",
       " {'sample_id': '8',\n",
       "  'RYB_point': [0.62, 0.23, 0.15],\n",
       "  'RGB_measured': [101.65162523900574, 75.32708731676227, 124.94123645634161]},\n",
       " {'sample_id': '9',\n",
       "  'RYB_point': [0.05, 0.45, 0.5],\n",
       "  'RGB_measured': [124.32045889101339, 152.30350541746336, 79.89751434034417]},\n",
       " {'sample_id': '10',\n",
       "  'RYB_point': [0.21, 0.32, 0.47000000000000003],\n",
       "  'RGB_measured': [124.41771829190567, 114.85315487571702, 91.40866794136393]},\n",
       " {'sample_id': '11',\n",
       "  'RYB_point': [0.12, 0.15, 0.73],\n",
       "  'RGB_measured': [130.52836201402167,\n",
       "   111.74748247291268,\n",
       "   47.026641172721476]},\n",
       " {'sample_id': '12',\n",
       "  'RYB_point': [1.0, 0.0, 0.0],\n",
       "  'RGB_measured': [232.92976418100702, 68.76800509878903, 106.5544933078394]},\n",
       " {'sample_id': '13',\n",
       "  'RYB_point': [0.0, 1.0, 0.0],\n",
       "  'RGB_measured': [214.89904397705544, 188.51790949649458, 56.20280433397068]},\n",
       " {'sample_id': '14',\n",
       "  'RYB_point': [0.7000000000000001, 0.0, 0.3],\n",
       "  'RGB_measured': [143.3304015296367, 108.46016571064372, 161.66449968132568]},\n",
       " {'sample_id': '15',\n",
       "  'RYB_point': [0.6, 0.4, 0.0],\n",
       "  'RGB_measured': [199.39502868068834, 66.61924792861696, 60.53435309114085]},\n",
       " {'sample_id': '16',\n",
       "  'RYB_point': [0.0, 0.0, 1.0],\n",
       "  'RGB_measured': [1.0916398713826367, 180.52734225621415, 219.6636073932441]},\n",
       " {'sample_id': '17',\n",
       "  'RYB_point': [0.55, 0.0, 0.45],\n",
       "  'RGB_measured': [115.89496494582536,\n",
       "   115.61644359464627,\n",
       "   165.61147227533462]},\n",
       " {'sample_id': '18',\n",
       "  'RYB_point': [0.8200000000000001, 0.0, 0.18],\n",
       "  'RGB_measured': [178.87482472912683, 105.61516889738687, 158.9182919056724]},\n",
       " {'sample_id': '19',\n",
       "  'RYB_point': [0.39, 0.35000000000000003, 0.26],\n",
       "  'RGB_measured': [118.88986615678776,\n",
       "   108.74327597195666,\n",
       "   117.24869343530911]},\n",
       " {'sample_id': '20',\n",
       "  'RYB_point': [0.66, 0.1, 0.24],\n",
       "  'RGB_measured': [123.64576163161249, 85.58750796685787, 121.10630975143404]},\n",
       " {'sample_id': '21',\n",
       "  'RYB_point': [0.8200000000000001, 0.18, 0.0],\n",
       "  'RGB_measured': [205.8302103250478, 60.15615041427661, 72.3176545570427]},\n",
       " {'sample_id': '22',\n",
       "  'RYB_point': [0.23, 0.56, 0.21],\n",
       "  'RGB_measured': [114.634034416826, 121.30860420650096, 102.04079031230083]},\n",
       " {'sample_id': '23',\n",
       "  'RYB_point': [0.48, 0.14, 0.38],\n",
       "  'RGB_measured': [86.5812619502868, 87.1338432122371, 114.8089228808158]}]"
      ]
     },
     "execution_count": 29,
     "metadata": {},
     "output_type": "execute_result"
    }
   ],
   "source": [
    "init_data"
   ]
  },
  {
   "cell_type": "code",
   "execution_count": 31,
   "id": "3b2b2856-a958-4bea-a33e-985178915213",
   "metadata": {},
   "outputs": [],
   "source": [
    "with open('initial_data_24pts_combine.jsonl', 'wt') as f:\n",
    "    for entry in init_data:\n",
    "        f.write(json.dumps(entry) + '\\n')"
   ]
  },
  {
   "cell_type": "code",
   "execution_count": 65,
   "id": "878f96b3-535b-4d1f-9b4e-3ae245073a05",
   "metadata": {},
   "outputs": [],
   "source": [
    "#image = cv2.imread('sampleimage_masked_1687813525.8915021.jpg')\n",
    "image = cv2.imread('sampleimage_masked_1687813298.037668.jpg')"
   ]
  },
  {
   "cell_type": "code",
   "execution_count": 71,
   "id": "b6c6921e-f819-44e7-96fa-0a16e50b97d5",
   "metadata": {},
   "outputs": [],
   "source": [
    "from jubileedemo import image_processing"
   ]
  },
  {
   "cell_type": "code",
   "execution_count": 72,
   "id": "6cf547f1-9a14-460f-8d9d-4f258a2fe20d",
   "metadata": {},
   "outputs": [
    {
     "name": "stdout",
     "output_type": "stream",
     "text": [
      "swapping\n"
     ]
    }
   ],
   "source": [
    "rgb = image_processing._get_rgb_avg(image)"
   ]
  },
  {
   "cell_type": "code",
   "execution_count": 73,
   "id": "1f1dcfb6-6de3-494d-8f53-42e1f673ed94",
   "metadata": {},
   "outputs": [],
   "source": [
    "norm_rgb = user_functions.normalize_color(rgb)"
   ]
  },
  {
   "cell_type": "code",
   "execution_count": 74,
   "id": "7a818045-9350-4483-9452-a9441452458a",
   "metadata": {},
   "outputs": [
    {
     "data": {
      "text/plain": [
       "0.2617500255474996"
      ]
     },
     "execution_count": 74,
     "metadata": {},
     "output_type": "execute_result"
    }
   ],
   "source": [
    "user_functions.color_loss_calculation(target_color, norm_rgb)"
   ]
  },
  {
   "cell_type": "code",
   "execution_count": 75,
   "id": "76181ffd-de5b-4263-b8d1-b60d77c2f2b9",
   "metadata": {},
   "outputs": [
    {
     "data": {
      "text/plain": [
       "[0.6621086280218055, 0.19737187036334725, 0.28539823707644374]"
      ]
     },
     "execution_count": 75,
     "metadata": {},
     "output_type": "execute_result"
    }
   ],
   "source": [
    "norm_rgb"
   ]
  },
  {
   "cell_type": "code",
   "execution_count": 76,
   "id": "81760b69-6103-46e3-a21b-2eb0288acc4a",
   "metadata": {},
   "outputs": [
    {
     "data": {
      "text/plain": [
       "[0.5333333333333333, 0.011764705882352941, 0.9882352941176471]"
      ]
     },
     "execution_count": 76,
     "metadata": {},
     "output_type": "execute_result"
    }
   ],
   "source": [
    "target_color"
   ]
  },
  {
   "cell_type": "code",
   "execution_count": 67,
   "id": "dac47e9a-cc8c-4303-8e5f-0395206e937e",
   "metadata": {},
   "outputs": [],
   "source": [
    "cv2.imshow('test', image)\n",
    "cv2.waitKey(0)   #wait for a keyboard input\n",
    "cv2.destroyAllWindows()"
   ]
  },
  {
   "cell_type": "code",
   "execution_count": 68,
   "id": "a0c7649e-d6c5-408f-b12a-dbb8b08ff2c8",
   "metadata": {},
   "outputs": [
    {
     "ename": "ModuleNotFoundError",
     "evalue": "No module named 'matplotlib'",
     "output_type": "error",
     "traceback": [
      "\u001b[0;31m---------------------------------------------------------------------------\u001b[0m",
      "\u001b[0;31mModuleNotFoundError\u001b[0m                       Traceback (most recent call last)",
      "Cell \u001b[0;32mIn[68], line 1\u001b[0m\n\u001b[0;32m----> 1\u001b[0m \u001b[38;5;28;01mimport\u001b[39;00m \u001b[38;5;21;01mmatplotlib\u001b[39;00m\u001b[38;5;21;01m.\u001b[39;00m\u001b[38;5;21;01mpyplot\u001b[39;00m \u001b[38;5;28;01mas\u001b[39;00m \u001b[38;5;21;01mplt\u001b[39;00m\n",
      "\u001b[0;31mModuleNotFoundError\u001b[0m: No module named 'matplotlib'"
     ]
    }
   ],
   "source": [
    "import matplotlib.pyplot as plt"
   ]
  },
  {
   "cell_type": "code",
   "execution_count": 34,
   "id": "e5d7f0ca-faec-4d39-9c41-0315a21efff9",
   "metadata": {},
   "outputs": [],
   "source": [
    "with open('sample_rgb_values.pkl', 'rb') as f:\n",
    "    test_rgb = pickle.load(f)"
   ]
  },
  {
   "cell_type": "code",
   "execution_count": 37,
   "id": "81506772-1def-40f0-9eca-55f8ca4c589a",
   "metadata": {},
   "outputs": [
    {
     "data": {
      "text/plain": [
       "[array([0., 1., 0.]),\n",
       " array([0., 0., 1.]),\n",
       " array([1., 0., 0.]),\n",
       " array([0.45, 0.  , 0.55]),\n",
       " array([0.  , 0.76, 0.24]),\n",
       " array([0.27, 0.18, 0.55]),\n",
       " array([0.16, 0.84, 0.  ]),\n",
       " array([0.22, 0.78, 0.  ]),\n",
       " array([0.11, 0.89, 0.  ]),\n",
       " array([0.  , 0.34, 0.66]),\n",
       " array([0.16, 0.77, 0.07]),\n",
       " array([0.6, 0.4, 0. ]),\n",
       " array([0.84, 0.16, 0.  ]),\n",
       " array([0.27, 0.  , 0.73]),\n",
       " array([0.73, 0.  , 0.27]),\n",
       " array([0.13, 0.54, 0.33]),\n",
       " array([0.27, 0.73, 0.  ]),\n",
       " array([0.19, 0.81, 0.  ]),\n",
       " array([0.4 , 0.21, 0.39]),\n",
       " array([0.88, 0.  , 0.12]),\n",
       " array([0.  , 0.58, 0.42]),\n",
       " array([0.4 , 0.33, 0.27]),\n",
       " array([0.48, 0.52, 0.  ]),\n",
       " array([0. , 0.9, 0.1])]"
      ]
     },
     "execution_count": 37,
     "metadata": {},
     "output_type": "execute_result"
    }
   ],
   "source": [
    "test_rgb"
   ]
  },
  {
   "cell_type": "code",
   "execution_count": 40,
   "id": "ddf7f0fd-1f61-49db-93b4-567055fb05d9",
   "metadata": {},
   "outputs": [],
   "source": [
    "loss_vals = []\n",
    "for entry in test_rgb:\n",
    "    loss = user_functions.color_loss_calculation(entry, target_color)\n",
    "    loss_vals.append(loss)\n",
    "    "
   ]
  },
  {
   "cell_type": "code",
   "execution_count": 41,
   "id": "73ca89a4-6474-4df5-861d-34fe02332cc5",
   "metadata": {},
   "outputs": [],
   "source": [
    "import matplotlib.pyplot as plt"
   ]
  },
  {
   "cell_type": "code",
   "execution_count": 44,
   "id": "c42e87de-5c43-4025-936f-bfd34b4a805f",
   "metadata": {},
   "outputs": [
    {
     "data": {
      "text/plain": [
       "[<matplotlib.lines.Line2D at 0x17e671490>]"
      ]
     },
     "execution_count": 44,
     "metadata": {},
     "output_type": "execute_result"
    }
   ],
   "source": [
    "plt.plot(loss_vals)"
   ]
  },
  {
   "cell_type": "code",
   "execution_count": null,
   "id": "f20962fd-a654-4203-9531-73a0414db304",
   "metadata": {},
   "outputs": [],
   "source": []
  }
 ],
 "metadata": {
  "kernelspec": {
   "display_name": "Python 3 (ipykernel)",
   "language": "python",
   "name": "python3"
  },
  "language_info": {
   "codemirror_mode": {
    "name": "ipython",
    "version": 3
   },
   "file_extension": ".py",
   "mimetype": "text/x-python",
   "name": "python",
   "nbconvert_exporter": "python",
   "pygments_lexer": "ipython3",
   "version": "3.9.16"
  }
 },
 "nbformat": 4,
 "nbformat_minor": 5
}
