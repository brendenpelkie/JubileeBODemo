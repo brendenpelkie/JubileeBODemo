{
 "cells": [
  {
   "cell_type": "code",
   "execution_count": 3,
   "id": "bde380a5-0c9c-4fbd-96a9-a8ce3f2ce957",
   "metadata": {},
   "outputs": [],
   "source": [
    "%load_ext autoreload\n",
    "%autoreload 2\n",
    "%matplotlib qt"
   ]
  },
  {
   "cell_type": "code",
   "execution_count": 14,
   "id": "292726c2-e3c3-430f-89c3-bcdfef2ea993",
   "metadata": {},
   "outputs": [],
   "source": [
    "from jubileedemo import meatspace_protocols as meat\n",
    "from jubileedemo import user_functions\n",
    "import numpy as np\n",
    "from bayesopt import acquisitions \n",
    "import json\n",
    "\n",
    "import cv2\n",
    "\n",
    "import bayesopt.bayesian_optimizer as bayesian_optimizer\n",
    "import bayesopt.model as model\n",
    "from sklearn.gaussian_process import GaussianProcessRegressor\n",
    "from sklearn.gaussian_process import kernels\n",
    "\n",
    "import matplotlib.pyplot as plt"
   ]
  },
  {
   "cell_type": "code",
   "execution_count": 5,
   "id": "7e3b1343-e175-4b96-b9a2-266d0662646f",
   "metadata": {},
   "outputs": [],
   "source": [
    "from jubileedemo import image_processing as img"
   ]
  },
  {
   "cell_type": "code",
   "execution_count": 6,
   "id": "9f6bd9d7-2783-4454-a5e1-786b2ebf4b34",
   "metadata": {},
   "outputs": [
    {
     "name": "stdout",
     "output_type": "stream",
     "text": [
      "Loading deck config file from deck_config.json\n"
     ]
    }
   ],
   "source": [
    "jub = meat.BayesianOptDemoDriver(deck_config_filepath = 'deck_config.json')"
   ]
  },
  {
   "cell_type": "code",
   "execution_count": 7,
   "id": "105eba72-35d0-47e5-bc84-ab8478f93597",
   "metadata": {},
   "outputs": [],
   "source": [
    "jub.safe_z = None"
   ]
  },
  {
   "cell_type": "raw",
   "id": "01dfe0dd-e184-4e81-8e7c-d3668a38bfaf",
   "metadata": {},
   "source": [
    "# prime pumps\n",
    "jub.prime_lines('2.A2', volume = 35)\n"
   ]
  },
  {
   "cell_type": "code",
   "execution_count": 7,
   "id": "c208b3b1-346f-41ff-b53a-bcd245c16ac0",
   "metadata": {},
   "outputs": [],
   "source": [
    "sample_space = user_functions.get_constrained_points(101)"
   ]
  },
  {
   "cell_type": "code",
   "execution_count": 8,
   "id": "f42ad58c-740d-4c19-aaa1-97b2d17effd1",
   "metadata": {},
   "outputs": [],
   "source": [
    "n_init_points = 12\n",
    "sampled_indices = np.random.randint(0, len(sample_space), size = n_init_points)\n",
    "sampled_points = sample_space[sampled_indices]"
   ]
  },
  {
   "cell_type": "code",
   "execution_count": 9,
   "id": "32ae9548-78e9-4e46-9a4b-d043bb0be2aa",
   "metadata": {
    "scrolled": true
   },
   "outputs": [
    {
     "name": "stdout",
     "output_type": "stream",
     "text": [
      "creating sample\n",
      "[0.08 0.67 0.25]\n",
      "3.A1\n"
     ]
    },
    {
     "ename": "TypeError",
     "evalue": "sample_point() missing 1 required positional argument: 'file_name'",
     "output_type": "error",
     "traceback": [
      "\u001b[0;31m---------------------------------------------------------------------------\u001b[0m",
      "\u001b[0;31mTypeError\u001b[0m                                 Traceback (most recent call last)",
      "Cell \u001b[0;32mIn[9], line 9\u001b[0m\n\u001b[1;32m      6\u001b[0m \u001b[38;5;28mprint\u001b[39m(point)\n\u001b[1;32m      7\u001b[0m \u001b[38;5;28mprint\u001b[39m(well)\n\u001b[0;32m----> 9\u001b[0m RGB \u001b[38;5;241m=\u001b[39m \u001b[43muser_functions\u001b[49m\u001b[38;5;241;43m.\u001b[39;49m\u001b[43msample_point\u001b[49m\u001b[43m(\u001b[49m\u001b[43mjub\u001b[49m\u001b[43m,\u001b[49m\u001b[43m \u001b[49m\u001b[43mpoint\u001b[49m\u001b[43m,\u001b[49m\u001b[43m \u001b[49m\u001b[38;5;241;43m5\u001b[39;49m\u001b[43m,\u001b[49m\u001b[43m \u001b[49m\u001b[43mwell\u001b[49m\u001b[43m)\u001b[49m\n\u001b[1;32m     10\u001b[0m rgb_vals\u001b[38;5;241m.\u001b[39mappend(RGB)\n",
      "\u001b[0;31mTypeError\u001b[0m: sample_point() missing 1 required positional argument: 'file_name'"
     ]
    }
   ],
   "source": [
    "rgb_vals = []\n",
    "for i in range(len(sampled_points)):\n",
    "    point = sampled_points[i,:]\n",
    "    well = jub.next_sample_well()\n",
    "    print('creating sample')\n",
    "    print(point)\n",
    "    print(well)\n",
    "    \n",
    "    RGB = user_functions.sample_point(jub, point, 5, well)\n",
    "    rgb_vals.append(RGB)"
   ]
  },
  {
   "cell_type": "code",
   "execution_count": 34,
   "id": "68cd91b8-6091-42a4-af40-906322a49d4c",
   "metadata": {},
   "outputs": [],
   "source": [
    "loss_vals = [user_functions.color_loss_calculation(target_color, user_functions.normalize_color(rgb)) for rgb in rgb_vals]"
   ]
  },
  {
   "cell_type": "code",
   "execution_count": 44,
   "id": "789da582-8c6c-47ba-92e0-deb7255e21e4",
   "metadata": {},
   "outputs": [],
   "source": [
    "init_data = []\n",
    "for i in range(len(sampled_points)):\n",
    "    data = {}\n",
    "    data['sample_id'] = str(i)\n",
    "    data['RYB_point'] = list(sampled_points[i])\n",
    "    data['RGB_measured'] = rgb_vals[i]\n",
    "\n",
    "    init_data.append(data)\n",
    "    "
   ]
  },
  {
   "cell_type": "code",
   "execution_count": 45,
   "id": "9eb14426-7720-4376-9a61-82666cdc4da3",
   "metadata": {},
   "outputs": [],
   "source": [
    "with open('initial_data_random_12.jsonl', 'wt') as f:\n",
    "    for entry in init_data:\n",
    "        f.write(json.dumps(entry) + '\\n')"
   ]
  },
  {
   "cell_type": "markdown",
   "id": "e32a637b-a3f1-41dc-8488-8f9cb88b27ce",
   "metadata": {},
   "source": [
    "# lab automation demo"
   ]
  },
  {
   "cell_type": "code",
   "execution_count": 9,
   "id": "fe33469c-6cdf-4956-8249-e47a8a128d53",
   "metadata": {},
   "outputs": [],
   "source": [
    "target_color = (178, 255, 102) #peachy\n",
    "target_color = user_functions.normalize_color(target_color)"
   ]
  },
  {
   "cell_type": "code",
   "execution_count": 10,
   "id": "78c0a455-f681-4075-821f-00c19e00d5a8",
   "metadata": {},
   "outputs": [],
   "source": [
    "jub.clear_well_usage()"
   ]
  },
  {
   "cell_type": "code",
   "execution_count": 11,
   "id": "a53daec1-c603-4085-90da-88d371cdd8fd",
   "metadata": {},
   "outputs": [],
   "source": [
    "test_color = (0.5, 0.25, 0.25)"
   ]
  },
  {
   "cell_type": "code",
   "execution_count": 28,
   "id": "b5a6ea89-d22e-47fc-9d3c-36d1ed195b39",
   "metadata": {},
   "outputs": [],
   "source": [
    "def automated_color_mixing(jubilee, color, volume):\n",
    "\n",
    "    plt.ion()\n",
    "    fig, ax = plt.subplots(1,2, figsize = (20,8))\n",
    "    \n",
    "    well = jubilee.next_sample_well()\n",
    "    new_color, image = user_functions.sample_point(jubilee, color, volume, well, 'test.jpg')\n",
    "    new_color = [new_color]\n",
    "    user_functions.plot_results(new_color, color, image, fig, ax)    \n",
    "\n"
   ]
  },
  {
   "cell_type": "code",
   "execution_count": null,
   "id": "db83078f-6f70-442c-ba6e-238bedf70c21",
   "metadata": {},
   "outputs": [],
   "source": []
  },
  {
   "cell_type": "code",
   "execution_count": 29,
   "id": "f20962fd-a654-4203-9531-73a0414db304",
   "metadata": {},
   "outputs": [
    {
     "name": "stdout",
     "output_type": "stream",
     "text": [
      "RYB after norm in sample func:  [0.5, 0.25, 0.25]\n",
      "Dispensing volumes:  [0.5, 0.25, 0.25]\n",
      "current active tool:  1\n",
      "swapping\n"
     ]
    }
   ],
   "source": [
    "automated_color_mixing(jub, test_color, 1)"
   ]
  }
 ],
 "metadata": {
  "kernelspec": {
   "display_name": "Python 3 (ipykernel)",
   "language": "python",
   "name": "python3"
  },
  "language_info": {
   "codemirror_mode": {
    "name": "ipython",
    "version": 3
   },
   "file_extension": ".py",
   "mimetype": "text/x-python",
   "name": "python",
   "nbconvert_exporter": "python",
   "pygments_lexer": "ipython3",
   "version": "3.9.16"
  }
 },
 "nbformat": 4,
 "nbformat_minor": 5
}
