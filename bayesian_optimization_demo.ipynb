{
 "cells": [
  {
   "cell_type": "code",
   "execution_count": 1,
   "id": "bde380a5-0c9c-4fbd-96a9-a8ce3f2ce957",
   "metadata": {},
   "outputs": [],
   "source": [
    "%load_ext autoreload\n",
    "%autoreload 2\n",
    "%matplotlib qt"
   ]
  },
  {
   "cell_type": "code",
   "execution_count": 2,
   "id": "292726c2-e3c3-430f-89c3-bcdfef2ea993",
   "metadata": {},
   "outputs": [],
   "source": [
    "from jubileedemo import meatspace_protocols as meat\n",
    "from jubileedemo import user_functions\n",
    "import numpy as np\n",
    "from bayesopt import acquisitions \n",
    "import json\n",
    "\n",
    "import cv2\n",
    "\n",
    "import bayesopt.bayesian_optimizer as bayesian_optimizer\n",
    "import bayesopt.model as model\n",
    "from sklearn.gaussian_process import GaussianProcessRegressor\n",
    "from sklearn.gaussian_process import kernels"
   ]
  },
  {
   "cell_type": "code",
   "execution_count": 3,
   "id": "7e3b1343-e175-4b96-b9a2-266d0662646f",
   "metadata": {},
   "outputs": [],
   "source": [
    "from jubileedemo import image_processing as img"
   ]
  },
  {
   "cell_type": "markdown",
   "id": "802eb64a-becb-4464-8ac6-c60328216a6a",
   "metadata": {},
   "source": [
    "### Connect to robot\n",
    "\n",
    "First, we connect to the robot by instantiating a jubilee object from the jubilee library. We haven't talked about objects in python or how we work with them. You can think of the jubilee object as a virtual model of the actual robot that keeps tracks of things like which tool the robot is using and knows what things the robot can do. "
   ]
  },
  {
   "cell_type": "code",
   "execution_count": 5,
   "id": "9f6bd9d7-2783-4454-a5e1-786b2ebf4b34",
   "metadata": {},
   "outputs": [
    {
     "name": "stdout",
     "output_type": "stream",
     "text": [
      "Loading deck config file from deck_config.json\n"
     ]
    }
   ],
   "source": [
    "jub = meat.BayesianOptDemoDriver(deck_config_filepath = 'deck_config.json')"
   ]
  },
  {
   "cell_type": "markdown",
   "id": "4fd34f0f-e9b5-40cd-9729-6e089a67ba13",
   "metadata": {},
   "source": [
    "We need to set a height for the bed so that the tools won't crash into anything while the robot moves"
   ]
  },
  {
   "cell_type": "code",
   "execution_count": 6,
   "id": "105eba72-35d0-47e5-bc84-ab8478f93597",
   "metadata": {},
   "outputs": [],
   "source": [
    "jub.safe_z = None"
   ]
  },
  {
   "cell_type": "markdown",
   "id": "39f0aa80-b42b-454f-b234-05bfcc43d797",
   "metadata": {},
   "source": [
    "If the liquid lines are not filled already, fill them"
   ]
  },
  {
   "cell_type": "code",
   "execution_count": 7,
   "id": "cda65c6e-33be-4731-8e2d-1a6974f39602",
   "metadata": {},
   "outputs": [],
   "source": [
    "# prime pumps\n",
    "jub.prime_lines('2.A2', volume = 35)\n"
   ]
  },
  {
   "cell_type": "markdown",
   "id": "6509c5b9-de88-4c5e-8847-9baa647681af",
   "metadata": {
    "jp-MarkdownHeadingCollapsed": true
   },
   "source": [
    "# Get 12 points of random data"
   ]
  },
  {
   "cell_type": "code",
   "execution_count": 7,
   "id": "c208b3b1-346f-41ff-b53a-bcd245c16ac0",
   "metadata": {},
   "outputs": [],
   "source": [
    "sample_space = user_functions.get_constrained_points(101)"
   ]
  },
  {
   "cell_type": "code",
   "execution_count": 8,
   "id": "f42ad58c-740d-4c19-aaa1-97b2d17effd1",
   "metadata": {},
   "outputs": [],
   "source": [
    "n_init_points = 12\n",
    "sampled_indices = np.random.randint(0, len(sample_space), size = n_init_points)\n",
    "sampled_points = sample_space[sampled_indices]"
   ]
  },
  {
   "cell_type": "code",
   "execution_count": 9,
   "id": "32ae9548-78e9-4e46-9a4b-d043bb0be2aa",
   "metadata": {
    "scrolled": true
   },
   "outputs": [
    {
     "name": "stdout",
     "output_type": "stream",
     "text": [
      "creating sample\n",
      "[0.08 0.67 0.25]\n",
      "3.A1\n"
     ]
    },
    {
     "ename": "TypeError",
     "evalue": "sample_point() missing 1 required positional argument: 'file_name'",
     "output_type": "error",
     "traceback": [
      "\u001b[0;31m---------------------------------------------------------------------------\u001b[0m",
      "\u001b[0;31mTypeError\u001b[0m                                 Traceback (most recent call last)",
      "Cell \u001b[0;32mIn[9], line 9\u001b[0m\n\u001b[1;32m      6\u001b[0m \u001b[38;5;28mprint\u001b[39m(point)\n\u001b[1;32m      7\u001b[0m \u001b[38;5;28mprint\u001b[39m(well)\n\u001b[0;32m----> 9\u001b[0m RGB \u001b[38;5;241m=\u001b[39m \u001b[43muser_functions\u001b[49m\u001b[38;5;241;43m.\u001b[39;49m\u001b[43msample_point\u001b[49m\u001b[43m(\u001b[49m\u001b[43mjub\u001b[49m\u001b[43m,\u001b[49m\u001b[43m \u001b[49m\u001b[43mpoint\u001b[49m\u001b[43m,\u001b[49m\u001b[43m \u001b[49m\u001b[38;5;241;43m5\u001b[39;49m\u001b[43m,\u001b[49m\u001b[43m \u001b[49m\u001b[43mwell\u001b[49m\u001b[43m)\u001b[49m\n\u001b[1;32m     10\u001b[0m rgb_vals\u001b[38;5;241m.\u001b[39mappend(RGB)\n",
      "\u001b[0;31mTypeError\u001b[0m: sample_point() missing 1 required positional argument: 'file_name'"
     ]
    }
   ],
   "source": [
    "rgb_vals = []\n",
    "for i in range(len(sampled_points)):\n",
    "    point = sampled_points[i,:]\n",
    "    well = jub.next_sample_well()\n",
    "    print('creating sample')\n",
    "    print(point)\n",
    "    print(well)\n",
    "    \n",
    "    RGB = user_functions.sample_point(jub, point, 5, well)\n",
    "    rgb_vals.append(RGB)"
   ]
  },
  {
   "cell_type": "code",
   "execution_count": 34,
   "id": "68cd91b8-6091-42a4-af40-906322a49d4c",
   "metadata": {},
   "outputs": [],
   "source": [
    "loss_vals = [user_functions.color_loss_calculation(target_color, user_functions.normalize_color(rgb)) for rgb in rgb_vals]"
   ]
  },
  {
   "cell_type": "code",
   "execution_count": 44,
   "id": "789da582-8c6c-47ba-92e0-deb7255e21e4",
   "metadata": {},
   "outputs": [],
   "source": [
    "init_data = []\n",
    "for i in range(len(sampled_points)):\n",
    "    data = {}\n",
    "    data['sample_id'] = str(i)\n",
    "    data['RYB_point'] = list(sampled_points[i])\n",
    "    data['RGB_measured'] = rgb_vals[i]\n",
    "\n",
    "    init_data.append(data)\n",
    "    "
   ]
  },
  {
   "cell_type": "code",
   "execution_count": 45,
   "id": "9eb14426-7720-4376-9a61-82666cdc4da3",
   "metadata": {},
   "outputs": [],
   "source": [
    "with open('initial_data_random_12.jsonl', 'wt') as f:\n",
    "    for entry in init_data:\n",
    "        f.write(json.dumps(entry) + '\\n')"
   ]
  },
  {
   "cell_type": "markdown",
   "id": "e32a637b-a3f1-41dc-8488-8f9cb88b27ce",
   "metadata": {},
   "source": [
    "# BO campaign"
   ]
  },
  {
   "cell_type": "markdown",
   "id": "406e86c3-f3d3-490b-8b43-243051b5bfc5",
   "metadata": {},
   "source": [
    "## 1. Pick a color\n",
    "\n",
    "Pick an RGB color that you would like to make"
   ]
  },
  {
   "cell_type": "code",
   "execution_count": 8,
   "id": "fe33469c-6cdf-4956-8249-e47a8a128d53",
   "metadata": {},
   "outputs": [],
   "source": [
    "target_color = (178, 255, 102) #peachy\n",
    "target_color = user_functions.normalize_color(target_color)"
   ]
  },
  {
   "cell_type": "markdown",
   "id": "35b7cc50-8793-425d-960e-e1285e4a34ab",
   "metadata": {},
   "source": [
    "## 2. Load some initial data for the optimizer to use"
   ]
  },
  {
   "cell_type": "code",
   "execution_count": 9,
   "id": "264ca7ed-97f0-4f17-baae-508f9c4a6617",
   "metadata": {},
   "outputs": [],
   "source": [
    "init_data = []\n",
    "\n",
    "with open('initial_data_random_12.jsonl', 'rt') as f:\n",
    "    for line in f:\n",
    "        init_data.append(json.loads(line))"
   ]
  },
  {
   "cell_type": "code",
   "execution_count": 10,
   "id": "dfe4dfe8-6186-4a50-a3ba-c6cefc23a2d5",
   "metadata": {},
   "outputs": [],
   "source": [
    "init_X = np.zeros((len(init_data),3))\n",
    "init_y = np.zeros(len(init_data))\n",
    "\n",
    "for i, entry in enumerate(init_data):\n",
    "    init_X[i,:] = entry['RYB_point']\n",
    "    init_y[i] = user_functions.color_loss_calculation(target_color, user_functions.normalize_color(entry['RGB_measured']))\n",
    "    "
   ]
  },
  {
   "cell_type": "markdown",
   "id": "e9db58f8-a43a-4c99-92b2-b48e7a20759f",
   "metadata": {},
   "source": [
    "## 3. Pick an acquisition function to use for the optimization:"
   ]
  },
  {
   "cell_type": "code",
   "execution_count": 11,
   "id": "ee11c479-d6fd-466c-93d1-32e1732b433f",
   "metadata": {},
   "outputs": [],
   "source": [
    "acquisition_function = acquisitions.optimize_EI"
   ]
  },
  {
   "cell_type": "markdown",
   "id": "6d6784f4-148e-4ae9-9d09-27fb263da8c0",
   "metadata": {},
   "source": [
    "## 4. Prepare final things and run the campaign"
   ]
  },
  {
   "cell_type": "code",
   "execution_count": 29,
   "id": "7b54c76b-fc25-47fc-ba95-a48827b3278a",
   "metadata": {},
   "outputs": [],
   "source": [
    "initial_data = (init_X, init_y)\n",
    "number_of_iterations = 3\n",
    "jubilee = jub"
   ]
  },
  {
   "cell_type": "code",
   "execution_count": 28,
   "id": "78c0a455-f681-4075-821f-00c19e00d5a8",
   "metadata": {},
   "outputs": [],
   "source": [
    "jub.clear_well_usage()"
   ]
  },
  {
   "cell_type": "code",
   "execution_count": 30,
   "id": "e455d5c8-b9c7-4a7f-aec4-734a9f884b83",
   "metadata": {
    "scrolled": true
   },
   "outputs": [
    {
     "name": "stdout",
     "output_type": "stream",
     "text": [
      "first query pt:  [0. 1. 0.]\n",
      "Starting iteration 0\n",
      "Dispensing into well 3.A1\n",
      "RYB values tested: [0. 1. 0.]\n",
      "RYB after norm in sample func:  [0.0, 1.0, 0.0]\n",
      "Dispensing volumes:  [0.0, 5.0, 0.0]\n",
      "current active tool:  1\n",
      "swapping\n",
      "loss score: 0.6856808850238488\n",
      "RGB values observed: [0.8822679613591773, 0.7851545258001225, 0.2632604756370362]\n",
      "Starting iteration 1\n",
      "Dispensing into well 3.A2\n",
      "RYB values tested: [0. 0. 1.]\n",
      "RYB after norm in sample func:  [0.0, 0.0, 1.0]\n",
      "Dispensing volumes:  [0.0, 0.0, 5.0]\n",
      "current active tool:  1\n",
      "swapping\n",
      "loss score: 0.2792119023496661\n",
      "RGB values observed: [0.11826391232082381, 0.6977397868006349, 0.7033724490433522]\n",
      "Starting iteration 2\n",
      "Dispensing into well 3.A3\n",
      "RYB values tested: [0.  0.8 0.2]\n",
      "RYB after norm in sample func:  [0.0, 0.8, 0.2]\n",
      "Dispensing volumes:  [0.0, 4.0, 1.0]\n",
      "current active tool:  1\n",
      "swapping\n",
      "loss score: 0.3335867634485471\n",
      "RGB values observed: [0.1681470650720454, 0.6457151426536197, 0.5944303227983354]\n"
     ]
    }
   ],
   "source": [
    "bo_obj, ryb_sampled, rgb_measured = user_functions.BO_campaign(initial_data, acquisition_function, number_of_iterations, target_color, jubilee)"
   ]
  },
  {
   "cell_type": "code",
   "execution_count": 29,
   "id": "a5a96a1b-ff77-42ef-844a-9b5f7504ec03",
   "metadata": {},
   "outputs": [
    {
     "data": {
      "text/plain": [
       "[{'sample_id': '0',\n",
       "  'RYB_point': [0.37, 0.49, 0.14],\n",
       "  'RGB_measured': [101.51293817718292,\n",
       "   103.28718929254302,\n",
       "   172.56010197578075]},\n",
       " {'sample_id': '1',\n",
       "  'RYB_point': [0.72, 0.14, 0.14],\n",
       "  'RGB_measured': [133.88859145952836, 95.62651370299554, 181.11612492033143]},\n",
       " {'sample_id': '2',\n",
       "  'RYB_point': [0.35000000000000003, 0.61, 0.04],\n",
       "  'RGB_measured': [115.27877629063097, 136.3812619502868, 200.83671128107073]},\n",
       " {'sample_id': '3',\n",
       "  'RYB_point': [0.55, 0.2, 0.25],\n",
       "  'RGB_measured': [125.35436583811345, 92.0970044614404, 144.84537922243467]},\n",
       " {'sample_id': '4',\n",
       "  'RYB_point': [0.27, 0.33, 0.4],\n",
       "  'RGB_measured': [128.74225621414914,\n",
       "   108.36583811344805,\n",
       "   151.20038240917782]},\n",
       " {'sample_id': '5',\n",
       "  'RYB_point': [0.25, 0.25, 0.5],\n",
       "  'RGB_measured': [184.46513702995537, 166.2295729764181, 126.10325047801147]},\n",
       " {'sample_id': '6',\n",
       "  'RYB_point': [0.26, 0.12, 0.62],\n",
       "  'RGB_measured': [183.86271510516252,\n",
       "   148.26602931803697,\n",
       "   114.18891013384321]},\n",
       " {'sample_id': '7',\n",
       "  'RYB_point': [0.17, 0.22, 0.61],\n",
       "  'RGB_measured': [155.67316762268962, 137.58291905672402, 91.40994263862332]},\n",
       " {'sample_id': '8',\n",
       "  'RYB_point': [0.62, 0.23, 0.15],\n",
       "  'RGB_measured': [101.65162523900574, 75.32708731676227, 124.94123645634161]},\n",
       " {'sample_id': '9',\n",
       "  'RYB_point': [0.05, 0.45, 0.5],\n",
       "  'RGB_measured': [124.32045889101339, 152.30350541746336, 79.89751434034417]},\n",
       " {'sample_id': '10',\n",
       "  'RYB_point': [0.21, 0.32, 0.47000000000000003],\n",
       "  'RGB_measured': [124.41771829190567, 114.85315487571702, 91.40866794136393]},\n",
       " {'sample_id': '11',\n",
       "  'RYB_point': [0.12, 0.15, 0.73],\n",
       "  'RGB_measured': [130.52836201402167,\n",
       "   111.74748247291268,\n",
       "   47.026641172721476]},\n",
       " {'sample_id': '12',\n",
       "  'RYB_point': [1.0, 0.0, 0.0],\n",
       "  'RGB_measured': [232.92976418100702, 68.76800509878903, 106.5544933078394]},\n",
       " {'sample_id': '13',\n",
       "  'RYB_point': [0.0, 1.0, 0.0],\n",
       "  'RGB_measured': [214.89904397705544, 188.51790949649458, 56.20280433397068]},\n",
       " {'sample_id': '14',\n",
       "  'RYB_point': [0.7000000000000001, 0.0, 0.3],\n",
       "  'RGB_measured': [143.3304015296367, 108.46016571064372, 161.66449968132568]},\n",
       " {'sample_id': '15',\n",
       "  'RYB_point': [0.6, 0.4, 0.0],\n",
       "  'RGB_measured': [199.39502868068834, 66.61924792861696, 60.53435309114085]},\n",
       " {'sample_id': '16',\n",
       "  'RYB_point': [0.0, 0.0, 1.0],\n",
       "  'RGB_measured': [1.0916398713826367, 180.52734225621415, 219.6636073932441]},\n",
       " {'sample_id': '17',\n",
       "  'RYB_point': [0.55, 0.0, 0.45],\n",
       "  'RGB_measured': [115.89496494582536,\n",
       "   115.61644359464627,\n",
       "   165.61147227533462]},\n",
       " {'sample_id': '18',\n",
       "  'RYB_point': [0.8200000000000001, 0.0, 0.18],\n",
       "  'RGB_measured': [178.87482472912683, 105.61516889738687, 158.9182919056724]},\n",
       " {'sample_id': '19',\n",
       "  'RYB_point': [0.39, 0.35000000000000003, 0.26],\n",
       "  'RGB_measured': [118.88986615678776,\n",
       "   108.74327597195666,\n",
       "   117.24869343530911]},\n",
       " {'sample_id': '20',\n",
       "  'RYB_point': [0.66, 0.1, 0.24],\n",
       "  'RGB_measured': [123.64576163161249, 85.58750796685787, 121.10630975143404]},\n",
       " {'sample_id': '21',\n",
       "  'RYB_point': [0.8200000000000001, 0.18, 0.0],\n",
       "  'RGB_measured': [205.8302103250478, 60.15615041427661, 72.3176545570427]},\n",
       " {'sample_id': '22',\n",
       "  'RYB_point': [0.23, 0.56, 0.21],\n",
       "  'RGB_measured': [114.634034416826, 121.30860420650096, 102.04079031230083]},\n",
       " {'sample_id': '23',\n",
       "  'RYB_point': [0.48, 0.14, 0.38],\n",
       "  'RGB_measured': [86.5812619502868, 87.1338432122371, 114.8089228808158]}]"
      ]
     },
     "execution_count": 29,
     "metadata": {},
     "output_type": "execute_result"
    }
   ],
   "source": [
    "init_data"
   ]
  },
  {
   "cell_type": "code",
   "execution_count": 31,
   "id": "3b2b2856-a958-4bea-a33e-985178915213",
   "metadata": {},
   "outputs": [],
   "source": [
    "with open('initial_data_24pts_combine.jsonl', 'wt') as f:\n",
    "    for entry in init_data:\n",
    "        f.write(json.dumps(entry) + '\\n')"
   ]
  },
  {
   "cell_type": "code",
   "execution_count": 65,
   "id": "878f96b3-535b-4d1f-9b4e-3ae245073a05",
   "metadata": {},
   "outputs": [],
   "source": [
    "#image = cv2.imread('sampleimage_masked_1687813525.8915021.jpg')\n",
    "image = cv2.imread('sampleimage_masked_1687813298.037668.jpg')"
   ]
  },
  {
   "cell_type": "code",
   "execution_count": 71,
   "id": "b6c6921e-f819-44e7-96fa-0a16e50b97d5",
   "metadata": {},
   "outputs": [],
   "source": [
    "from jubileedemo import image_processing"
   ]
  },
  {
   "cell_type": "code",
   "execution_count": 72,
   "id": "6cf547f1-9a14-460f-8d9d-4f258a2fe20d",
   "metadata": {},
   "outputs": [
    {
     "name": "stdout",
     "output_type": "stream",
     "text": [
      "swapping\n"
     ]
    }
   ],
   "source": [
    "rgb = image_processing._get_rgb_avg(image)"
   ]
  },
  {
   "cell_type": "code",
   "execution_count": 73,
   "id": "1f1dcfb6-6de3-494d-8f53-42e1f673ed94",
   "metadata": {},
   "outputs": [],
   "source": [
    "norm_rgb = user_functions.normalize_color(rgb)"
   ]
  },
  {
   "cell_type": "code",
   "execution_count": 74,
   "id": "7a818045-9350-4483-9452-a9441452458a",
   "metadata": {},
   "outputs": [
    {
     "data": {
      "text/plain": [
       "0.2617500255474996"
      ]
     },
     "execution_count": 74,
     "metadata": {},
     "output_type": "execute_result"
    }
   ],
   "source": [
    "user_functions.color_loss_calculation(target_color, norm_rgb)"
   ]
  },
  {
   "cell_type": "code",
   "execution_count": 75,
   "id": "76181ffd-de5b-4263-b8d1-b60d77c2f2b9",
   "metadata": {},
   "outputs": [
    {
     "data": {
      "text/plain": [
       "[0.6621086280218055, 0.19737187036334725, 0.28539823707644374]"
      ]
     },
     "execution_count": 75,
     "metadata": {},
     "output_type": "execute_result"
    }
   ],
   "source": [
    "norm_rgb"
   ]
  },
  {
   "cell_type": "code",
   "execution_count": 76,
   "id": "81760b69-6103-46e3-a21b-2eb0288acc4a",
   "metadata": {},
   "outputs": [
    {
     "data": {
      "text/plain": [
       "[0.5333333333333333, 0.011764705882352941, 0.9882352941176471]"
      ]
     },
     "execution_count": 76,
     "metadata": {},
     "output_type": "execute_result"
    }
   ],
   "source": [
    "target_color"
   ]
  },
  {
   "cell_type": "code",
   "execution_count": 67,
   "id": "dac47e9a-cc8c-4303-8e5f-0395206e937e",
   "metadata": {},
   "outputs": [],
   "source": [
    "cv2.imshow('test', image)\n",
    "cv2.waitKey(0)   #wait for a keyboard input\n",
    "cv2.destroyAllWindows()"
   ]
  },
  {
   "cell_type": "code",
   "execution_count": 68,
   "id": "a0c7649e-d6c5-408f-b12a-dbb8b08ff2c8",
   "metadata": {},
   "outputs": [
    {
     "ename": "ModuleNotFoundError",
     "evalue": "No module named 'matplotlib'",
     "output_type": "error",
     "traceback": [
      "\u001b[0;31m---------------------------------------------------------------------------\u001b[0m",
      "\u001b[0;31mModuleNotFoundError\u001b[0m                       Traceback (most recent call last)",
      "Cell \u001b[0;32mIn[68], line 1\u001b[0m\n\u001b[0;32m----> 1\u001b[0m \u001b[38;5;28;01mimport\u001b[39;00m \u001b[38;5;21;01mmatplotlib\u001b[39;00m\u001b[38;5;21;01m.\u001b[39;00m\u001b[38;5;21;01mpyplot\u001b[39;00m \u001b[38;5;28;01mas\u001b[39;00m \u001b[38;5;21;01mplt\u001b[39;00m\n",
      "\u001b[0;31mModuleNotFoundError\u001b[0m: No module named 'matplotlib'"
     ]
    }
   ],
   "source": [
    "import matplotlib.pyplot as plt"
   ]
  },
  {
   "cell_type": "code",
   "execution_count": 34,
   "id": "e5d7f0ca-faec-4d39-9c41-0315a21efff9",
   "metadata": {},
   "outputs": [],
   "source": [
    "with open('sample_rgb_values.pkl', 'rb') as f:\n",
    "    test_rgb = pickle.load(f)"
   ]
  },
  {
   "cell_type": "code",
   "execution_count": 13,
   "id": "81506772-1def-40f0-9eca-55f8ca4c589a",
   "metadata": {},
   "outputs": [
    {
     "name": "stdout",
     "output_type": "stream",
     "text": [
      "current active tool:  1\n"
     ]
    }
   ],
   "source": [
    "image = jubilee.well_image('1.A1')"
   ]
  },
  {
   "cell_type": "code",
   "execution_count": 31,
   "id": "cc8670e0-d2e3-4d30-a22a-7578be8b09a3",
   "metadata": {},
   "outputs": [
    {
     "ename": "error",
     "evalue": "OpenCV(4.7.0) :-1: error: (-5:Bad argument) in function 'imdecode'\n> Overload resolution failed:\n>  - imdecode() missing required argument 'flags' (pos 2)\n>  - imdecode() missing required argument 'flags' (pos 2)\n",
     "output_type": "error",
     "traceback": [
      "\u001b[0;31m---------------------------------------------------------------------------\u001b[0m",
      "\u001b[0;31merror\u001b[0m                                     Traceback (most recent call last)",
      "Cell \u001b[0;32mIn[31], line 1\u001b[0m\n\u001b[0;32m----> 1\u001b[0m \u001b[43mcv2\u001b[49m\u001b[38;5;241;43m.\u001b[39;49m\u001b[43mimdecode\u001b[49m\u001b[43m(\u001b[49m\u001b[43mimage\u001b[49m\u001b[43m)\u001b[49m\n",
      "\u001b[0;31merror\u001b[0m: OpenCV(4.7.0) :-1: error: (-5:Bad argument) in function 'imdecode'\n> Overload resolution failed:\n>  - imdecode() missing required argument 'flags' (pos 2)\n>  - imdecode() missing required argument 'flags' (pos 2)\n"
     ]
    }
   ],
   "source": [
    "cv2.imdecode(image)"
   ]
  },
  {
   "cell_type": "code",
   "execution_count": 14,
   "id": "e3f4194f-38ed-45f2-ae6f-831b803d3374",
   "metadata": {},
   "outputs": [],
   "source": [
    "imgbuf = np.frombuffer(image, dtype = np.uint8)"
   ]
  },
  {
   "cell_type": "code",
   "execution_count": 15,
   "id": "a5f7b61d-4b9a-4390-b2b8-d781cc7994fc",
   "metadata": {},
   "outputs": [],
   "source": [
    "imgcv = cv2.imdecode(imgbuf, cv2.IMREAD_COLOR)"
   ]
  },
  {
   "cell_type": "code",
   "execution_count": 17,
   "id": "1abfc98d-7efa-45fe-b54f-03aa45a9697c",
   "metadata": {},
   "outputs": [
    {
     "data": {
      "text/plain": [
       "array([[[107,  97, 105],\n",
       "        [108,  98, 106],\n",
       "        [109,  99, 107],\n",
       "        ...,\n",
       "        [106,  95,  99],\n",
       "        [104,  93,  97],\n",
       "        [103,  92,  96]],\n",
       "\n",
       "       [[108,  98, 106],\n",
       "        [109,  99, 107],\n",
       "        [110, 100, 108],\n",
       "        ...,\n",
       "        [106,  95,  99],\n",
       "        [104,  93,  97],\n",
       "        [103,  92,  96]],\n",
       "\n",
       "       [[110, 100, 108],\n",
       "        [111, 101, 109],\n",
       "        [112, 102, 110],\n",
       "        ...,\n",
       "        [106,  95,  99],\n",
       "        [104,  93,  97],\n",
       "        [103,  92,  96]],\n",
       "\n",
       "       ...,\n",
       "\n",
       "       [[ 63,  58,  64],\n",
       "        [ 63,  58,  64],\n",
       "        [ 63,  58,  64],\n",
       "        ...,\n",
       "        [102,  92,  90],\n",
       "        [101,  91,  90],\n",
       "        [100,  90,  89]],\n",
       "\n",
       "       [[ 63,  58,  64],\n",
       "        [ 63,  58,  64],\n",
       "        [ 63,  58,  64],\n",
       "        ...,\n",
       "        [102,  92,  90],\n",
       "        [101,  91,  90],\n",
       "        [100,  90,  89]],\n",
       "\n",
       "       [[ 63,  58,  64],\n",
       "        [ 63,  58,  64],\n",
       "        [ 63,  58,  64],\n",
       "        ...,\n",
       "        [102,  92,  90],\n",
       "        [101,  91,  90],\n",
       "        [100,  90,  89]]], dtype=uint8)"
      ]
     },
     "execution_count": 17,
     "metadata": {},
     "output_type": "execute_result"
    }
   ],
   "source": [
    "imgcv[:,:,[2,1,0]]"
   ]
  },
  {
   "cell_type": "code",
   "execution_count": 41,
   "id": "05917570-403c-489a-bdc9-e32ba5f5136d",
   "metadata": {},
   "outputs": [],
   "source": [
    "import matplotlib.pyplot as plt"
   ]
  },
  {
   "cell_type": "code",
   "execution_count": 43,
   "id": "642e4ecf-42e5-4b7b-a0ad-dab87b12a593",
   "metadata": {},
   "outputs": [],
   "source": [
    "plt.imshow(imgcv)\n",
    "plt.show()"
   ]
  },
  {
   "cell_type": "code",
   "execution_count": 37,
   "id": "0c2f83c4-e87a-468a-9820-4b6ddd38c783",
   "metadata": {},
   "outputs": [
    {
     "ename": "ValueError",
     "evalue": "cannot reshape array of size 12799 into shape (600,600,3)",
     "output_type": "error",
     "traceback": [
      "\u001b[0;31m---------------------------------------------------------------------------\u001b[0m",
      "\u001b[0;31mValueError\u001b[0m                                Traceback (most recent call last)",
      "Cell \u001b[0;32mIn[37], line 1\u001b[0m\n\u001b[0;32m----> 1\u001b[0m imgarr \u001b[38;5;241m=\u001b[39m \u001b[43mimgbuf\u001b[49m\u001b[38;5;241;43m.\u001b[39;49m\u001b[43mreshape\u001b[49m\u001b[43m(\u001b[49m\u001b[38;5;241;43m600\u001b[39;49m\u001b[43m,\u001b[49m\u001b[43m \u001b[49m\u001b[38;5;241;43m600\u001b[39;49m\u001b[43m,\u001b[49m\u001b[43m \u001b[49m\u001b[38;5;241;43m3\u001b[39;49m\u001b[43m)\u001b[49m\n",
      "\u001b[0;31mValueError\u001b[0m: cannot reshape array of size 12799 into shape (600,600,3)"
     ]
    }
   ],
   "source": [
    "imgarr = imgbuf.reshape(600, 600, 3)"
   ]
  },
  {
   "cell_type": "code",
   "execution_count": 40,
   "id": "ddf7f0fd-1f61-49db-93b4-567055fb05d9",
   "metadata": {},
   "outputs": [],
   "source": [
    "loss_vals = []\n",
    "for entry in test_rgb:\n",
    "    loss = user_functions.color_loss_calculation(entry, target_color)\n",
    "    loss_vals.append(loss)\n",
    "    "
   ]
  },
  {
   "cell_type": "code",
   "execution_count": 41,
   "id": "73ca89a4-6474-4df5-861d-34fe02332cc5",
   "metadata": {},
   "outputs": [],
   "source": [
    "import matplotlib.pyplot as plt"
   ]
  },
  {
   "cell_type": "code",
   "execution_count": 44,
   "id": "c42e87de-5c43-4025-936f-bfd34b4a805f",
   "metadata": {},
   "outputs": [
    {
     "data": {
      "text/plain": [
       "[<matplotlib.lines.Line2D at 0x17e671490>]"
      ]
     },
     "execution_count": 44,
     "metadata": {},
     "output_type": "execute_result"
    }
   ],
   "source": [
    "plt.plot(loss_vals)"
   ]
  },
  {
   "cell_type": "code",
   "execution_count": null,
   "id": "f20962fd-a654-4203-9531-73a0414db304",
   "metadata": {},
   "outputs": [],
   "source": []
  }
 ],
 "metadata": {
  "kernelspec": {
   "display_name": "Python 3 (ipykernel)",
   "language": "python",
   "name": "python3"
  },
  "language_info": {
   "codemirror_mode": {
    "name": "ipython",
    "version": 3
   },
   "file_extension": ".py",
   "mimetype": "text/x-python",
   "name": "python",
   "nbconvert_exporter": "python",
   "pygments_lexer": "ipython3",
   "version": "3.9.16"
  }
 },
 "nbformat": 4,
 "nbformat_minor": 5
}
